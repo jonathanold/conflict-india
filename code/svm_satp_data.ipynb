{
 "cells": [
  {
   "cell_type": "code",
   "execution_count": 835,
   "id": "fd757a08",
   "metadata": {},
   "outputs": [],
   "source": [
    "# Import required libraries\n",
    "import pandas as pd\n",
    "import numpy as np\n",
    "import re\n",
    "from nltk.tokenize import word_tokenize\n",
    "from nltk import pos_tag\n",
    "from nltk.corpus import stopwords\n",
    "from nltk.stem import WordNetLemmatizer\n",
    "from sklearn.preprocessing import LabelEncoder\n",
    "from collections import defaultdict\n",
    "from nltk.corpus import wordnet as wn\n",
    "from sklearn import preprocessing\n",
    "from sklearn.model_selection import train_test_split\n",
    "from sklearn.feature_extraction.text import TfidfVectorizer\n",
    "from sklearn import svm\n",
    "from sklearn.model_selection import KFold\n",
    "from sklearn.metrics import accuracy_score, confusion_matrix\n",
    "import matplotlib.pyplot as plt\n",
    "import seaborn as sns"
   ]
  },
  {
   "cell_type": "markdown",
   "id": "795e6322",
   "metadata": {},
   "source": [
    "## Data"
   ]
  },
  {
   "cell_type": "code",
   "execution_count": 477,
   "id": "28f6dd50",
   "metadata": {
    "scrolled": false
   },
   "outputs": [
    {
     "data": {
      "text/html": [
       "<div>\n",
       "<style scoped>\n",
       "    .dataframe tbody tr th:only-of-type {\n",
       "        vertical-align: middle;\n",
       "    }\n",
       "\n",
       "    .dataframe tbody tr th {\n",
       "        vertical-align: top;\n",
       "    }\n",
       "\n",
       "    .dataframe thead th {\n",
       "        text-align: right;\n",
       "    }\n",
       "</style>\n",
       "<table border=\"1\" class=\"dataframe\">\n",
       "  <thead>\n",
       "    <tr style=\"text-align: right;\">\n",
       "      <th></th>\n",
       "      <th>description</th>\n",
       "      <th>id_satp</th>\n",
       "      <th>relevant_event</th>\n",
       "      <th>multiple_events</th>\n",
       "      <th>internal_conflict</th>\n",
       "      <th>number_casualties</th>\n",
       "      <th>number_injuries</th>\n",
       "      <th>pacification_event</th>\n",
       "      <th>economic_conditions</th>\n",
       "      <th>political_demands</th>\n",
       "      <th>communal_conflict</th>\n",
       "      <th>caste_conflict</th>\n",
       "      <th>naxalite_maoist</th>\n",
       "      <th>organized_crime</th>\n",
       "      <th>islamic_terrorism</th>\n",
       "      <th>note</th>\n",
       "    </tr>\n",
       "  </thead>\n",
       "  <tbody>\n",
       "    <tr>\n",
       "      <th>0</th>\n",
       "      <td>A Communist Party of India-Maoist (CPI-Maoist)...</td>\n",
       "      <td>ID_6103</td>\n",
       "      <td>1</td>\n",
       "      <td>0.0</td>\n",
       "      <td>1.0</td>\n",
       "      <td>1</td>\n",
       "      <td>0.0</td>\n",
       "      <td>0.0</td>\n",
       "      <td>0.0</td>\n",
       "      <td>0.0</td>\n",
       "      <td>0.0</td>\n",
       "      <td>0.0</td>\n",
       "      <td>1.0</td>\n",
       "      <td>0.0</td>\n",
       "      <td>1.0</td>\n",
       "      <td>NaN</td>\n",
       "    </tr>\n",
       "    <tr>\n",
       "      <th>1</th>\n",
       "      <td>Communist Party of India-Maoist (CPI-Maoist) m...</td>\n",
       "      <td>ID_4707</td>\n",
       "      <td>1</td>\n",
       "      <td>1.0</td>\n",
       "      <td>1.0</td>\n",
       "      <td>0</td>\n",
       "      <td>0.0</td>\n",
       "      <td>0.0</td>\n",
       "      <td>0.0</td>\n",
       "      <td>1.0</td>\n",
       "      <td>0.0</td>\n",
       "      <td>0.0</td>\n",
       "      <td>1.0</td>\n",
       "      <td>0.0</td>\n",
       "      <td>NaN</td>\n",
       "      <td>NaN</td>\n",
       "    </tr>\n",
       "    <tr>\n",
       "      <th>2</th>\n",
       "      <td>Senior separatist leaders Syed Ali Shah Geelan...</td>\n",
       "      <td>ID_94982</td>\n",
       "      <td>0</td>\n",
       "      <td>NaN</td>\n",
       "      <td>NaN</td>\n",
       "      <td>NaN</td>\n",
       "      <td>NaN</td>\n",
       "      <td>NaN</td>\n",
       "      <td>NaN</td>\n",
       "      <td>NaN</td>\n",
       "      <td>NaN</td>\n",
       "      <td>NaN</td>\n",
       "      <td>NaN</td>\n",
       "      <td>NaN</td>\n",
       "      <td>NaN</td>\n",
       "      <td>NaN</td>\n",
       "    </tr>\n",
       "    <tr>\n",
       "      <th>3</th>\n",
       "      <td>Opposing Government of Indias (GoI) reported d...</td>\n",
       "      <td>ID_17777</td>\n",
       "      <td>1</td>\n",
       "      <td>0.0</td>\n",
       "      <td>1.0</td>\n",
       "      <td>905</td>\n",
       "      <td>0.0</td>\n",
       "      <td>0.0</td>\n",
       "      <td>0.0</td>\n",
       "      <td>1.0</td>\n",
       "      <td>0.0</td>\n",
       "      <td>0.0</td>\n",
       "      <td>0.0</td>\n",
       "      <td>0.0</td>\n",
       "      <td>NaN</td>\n",
       "      <td>NaN</td>\n",
       "    </tr>\n",
       "    <tr>\n",
       "      <th>4</th>\n",
       "      <td>Cadres of the Communist Party of India-Maoist ...</td>\n",
       "      <td>ID_60843</td>\n",
       "      <td>1</td>\n",
       "      <td>0.0</td>\n",
       "      <td>1.0</td>\n",
       "      <td>0</td>\n",
       "      <td>0.0</td>\n",
       "      <td>0.0</td>\n",
       "      <td>0.0</td>\n",
       "      <td>0.0</td>\n",
       "      <td>0.0</td>\n",
       "      <td>0.0</td>\n",
       "      <td>1.0</td>\n",
       "      <td>0.0</td>\n",
       "      <td>NaN</td>\n",
       "      <td>NaN</td>\n",
       "    </tr>\n",
       "  </tbody>\n",
       "</table>\n",
       "</div>"
      ],
      "text/plain": [
       "                                         description   id_satp  \\\n",
       "0  A Communist Party of India-Maoist (CPI-Maoist)...   ID_6103   \n",
       "1  Communist Party of India-Maoist (CPI-Maoist) m...   ID_4707   \n",
       "2  Senior separatist leaders Syed Ali Shah Geelan...  ID_94982   \n",
       "3  Opposing Government of Indias (GoI) reported d...  ID_17777   \n",
       "4  Cadres of the Communist Party of India-Maoist ...  ID_60843   \n",
       "\n",
       "   relevant_event  multiple_events  internal_conflict number_casualties  \\\n",
       "0               1              0.0                1.0                 1   \n",
       "1               1              1.0                1.0                 0   \n",
       "2               0              NaN                NaN               NaN   \n",
       "3               1              0.0                1.0               905   \n",
       "4               1              0.0                1.0                 0   \n",
       "\n",
       "   number_injuries  pacification_event  economic_conditions  \\\n",
       "0              0.0                 0.0                  0.0   \n",
       "1              0.0                 0.0                  0.0   \n",
       "2              NaN                 NaN                  NaN   \n",
       "3              0.0                 0.0                  0.0   \n",
       "4              0.0                 0.0                  0.0   \n",
       "\n",
       "   political_demands  communal_conflict  caste_conflict  naxalite_maoist  \\\n",
       "0                0.0                0.0             0.0              1.0   \n",
       "1                1.0                0.0             0.0              1.0   \n",
       "2                NaN                NaN             NaN              NaN   \n",
       "3                1.0                0.0             0.0              0.0   \n",
       "4                0.0                0.0             0.0              1.0   \n",
       "\n",
       "   organized_crime  islamic_terrorism note  \n",
       "0              0.0                1.0  NaN  \n",
       "1              0.0                NaN  NaN  \n",
       "2              NaN                NaN  NaN  \n",
       "3              0.0                NaN  NaN  \n",
       "4              0.0                NaN  NaN  "
      ]
     },
     "execution_count": 477,
     "metadata": {},
     "output_type": "execute_result"
    }
   ],
   "source": [
    "# Import dataset\n",
    "events = pd.read_excel('~/Downloads/combined_events.xlsx')\n",
    "events.head(5)"
   ]
  },
  {
   "cell_type": "code",
   "execution_count": 478,
   "id": "9c074166",
   "metadata": {},
   "outputs": [
    {
     "data": {
      "text/plain": [
       "(1084, 16)"
      ]
     },
     "execution_count": 478,
     "metadata": {},
     "output_type": "execute_result"
    }
   ],
   "source": [
    "events.shape"
   ]
  },
  {
   "cell_type": "code",
   "execution_count": 479,
   "id": "311b0e50",
   "metadata": {
    "scrolled": false
   },
   "outputs": [
    {
     "data": {
      "text/html": [
       "<div>\n",
       "<style scoped>\n",
       "    .dataframe tbody tr th:only-of-type {\n",
       "        vertical-align: middle;\n",
       "    }\n",
       "\n",
       "    .dataframe tbody tr th {\n",
       "        vertical-align: top;\n",
       "    }\n",
       "\n",
       "    .dataframe thead th {\n",
       "        text-align: right;\n",
       "    }\n",
       "</style>\n",
       "<table border=\"1\" class=\"dataframe\">\n",
       "  <thead>\n",
       "    <tr style=\"text-align: right;\">\n",
       "      <th></th>\n",
       "      <th>relevant_event</th>\n",
       "      <th>multiple_events</th>\n",
       "      <th>internal_conflict</th>\n",
       "      <th>number_injuries</th>\n",
       "      <th>pacification_event</th>\n",
       "      <th>economic_conditions</th>\n",
       "      <th>political_demands</th>\n",
       "      <th>communal_conflict</th>\n",
       "      <th>caste_conflict</th>\n",
       "      <th>naxalite_maoist</th>\n",
       "      <th>organized_crime</th>\n",
       "      <th>islamic_terrorism</th>\n",
       "    </tr>\n",
       "  </thead>\n",
       "  <tbody>\n",
       "    <tr>\n",
       "      <th>count</th>\n",
       "      <td>1084.000000</td>\n",
       "      <td>815.000000</td>\n",
       "      <td>812.000000</td>\n",
       "      <td>612.000000</td>\n",
       "      <td>612.000000</td>\n",
       "      <td>612.000000</td>\n",
       "      <td>612.000000</td>\n",
       "      <td>612.000000</td>\n",
       "      <td>612.000000</td>\n",
       "      <td>612.000000</td>\n",
       "      <td>612.000000</td>\n",
       "      <td>343.000000</td>\n",
       "    </tr>\n",
       "    <tr>\n",
       "      <th>mean</th>\n",
       "      <td>0.677122</td>\n",
       "      <td>0.100613</td>\n",
       "      <td>0.945813</td>\n",
       "      <td>3.810458</td>\n",
       "      <td>0.098039</td>\n",
       "      <td>0.050654</td>\n",
       "      <td>0.155229</td>\n",
       "      <td>0.044118</td>\n",
       "      <td>0.016340</td>\n",
       "      <td>0.331699</td>\n",
       "      <td>0.068627</td>\n",
       "      <td>0.093294</td>\n",
       "    </tr>\n",
       "    <tr>\n",
       "      <th>std</th>\n",
       "      <td>0.467792</td>\n",
       "      <td>0.301001</td>\n",
       "      <td>0.226526</td>\n",
       "      <td>57.089501</td>\n",
       "      <td>0.297611</td>\n",
       "      <td>0.219469</td>\n",
       "      <td>0.362419</td>\n",
       "      <td>0.205524</td>\n",
       "      <td>0.126883</td>\n",
       "      <td>0.471209</td>\n",
       "      <td>0.253026</td>\n",
       "      <td>0.291270</td>\n",
       "    </tr>\n",
       "    <tr>\n",
       "      <th>min</th>\n",
       "      <td>0.000000</td>\n",
       "      <td>0.000000</td>\n",
       "      <td>0.000000</td>\n",
       "      <td>0.000000</td>\n",
       "      <td>0.000000</td>\n",
       "      <td>0.000000</td>\n",
       "      <td>0.000000</td>\n",
       "      <td>0.000000</td>\n",
       "      <td>0.000000</td>\n",
       "      <td>0.000000</td>\n",
       "      <td>0.000000</td>\n",
       "      <td>0.000000</td>\n",
       "    </tr>\n",
       "    <tr>\n",
       "      <th>25%</th>\n",
       "      <td>0.000000</td>\n",
       "      <td>0.000000</td>\n",
       "      <td>1.000000</td>\n",
       "      <td>0.000000</td>\n",
       "      <td>0.000000</td>\n",
       "      <td>0.000000</td>\n",
       "      <td>0.000000</td>\n",
       "      <td>0.000000</td>\n",
       "      <td>0.000000</td>\n",
       "      <td>0.000000</td>\n",
       "      <td>0.000000</td>\n",
       "      <td>0.000000</td>\n",
       "    </tr>\n",
       "    <tr>\n",
       "      <th>50%</th>\n",
       "      <td>1.000000</td>\n",
       "      <td>0.000000</td>\n",
       "      <td>1.000000</td>\n",
       "      <td>0.000000</td>\n",
       "      <td>0.000000</td>\n",
       "      <td>0.000000</td>\n",
       "      <td>0.000000</td>\n",
       "      <td>0.000000</td>\n",
       "      <td>0.000000</td>\n",
       "      <td>0.000000</td>\n",
       "      <td>0.000000</td>\n",
       "      <td>0.000000</td>\n",
       "    </tr>\n",
       "    <tr>\n",
       "      <th>75%</th>\n",
       "      <td>1.000000</td>\n",
       "      <td>0.000000</td>\n",
       "      <td>1.000000</td>\n",
       "      <td>0.000000</td>\n",
       "      <td>0.000000</td>\n",
       "      <td>0.000000</td>\n",
       "      <td>0.000000</td>\n",
       "      <td>0.000000</td>\n",
       "      <td>0.000000</td>\n",
       "      <td>1.000000</td>\n",
       "      <td>0.000000</td>\n",
       "      <td>0.000000</td>\n",
       "    </tr>\n",
       "    <tr>\n",
       "      <th>max</th>\n",
       "      <td>1.000000</td>\n",
       "      <td>1.000000</td>\n",
       "      <td>1.000000</td>\n",
       "      <td>999.000000</td>\n",
       "      <td>1.000000</td>\n",
       "      <td>1.000000</td>\n",
       "      <td>1.000000</td>\n",
       "      <td>1.000000</td>\n",
       "      <td>1.000000</td>\n",
       "      <td>1.000000</td>\n",
       "      <td>1.000000</td>\n",
       "      <td>1.000000</td>\n",
       "    </tr>\n",
       "  </tbody>\n",
       "</table>\n",
       "</div>"
      ],
      "text/plain": [
       "       relevant_event  multiple_events  internal_conflict  number_injuries  \\\n",
       "count     1084.000000       815.000000         812.000000       612.000000   \n",
       "mean         0.677122         0.100613           0.945813         3.810458   \n",
       "std          0.467792         0.301001           0.226526        57.089501   \n",
       "min          0.000000         0.000000           0.000000         0.000000   \n",
       "25%          0.000000         0.000000           1.000000         0.000000   \n",
       "50%          1.000000         0.000000           1.000000         0.000000   \n",
       "75%          1.000000         0.000000           1.000000         0.000000   \n",
       "max          1.000000         1.000000           1.000000       999.000000   \n",
       "\n",
       "       pacification_event  economic_conditions  political_demands  \\\n",
       "count          612.000000           612.000000         612.000000   \n",
       "mean             0.098039             0.050654           0.155229   \n",
       "std              0.297611             0.219469           0.362419   \n",
       "min              0.000000             0.000000           0.000000   \n",
       "25%              0.000000             0.000000           0.000000   \n",
       "50%              0.000000             0.000000           0.000000   \n",
       "75%              0.000000             0.000000           0.000000   \n",
       "max              1.000000             1.000000           1.000000   \n",
       "\n",
       "       communal_conflict  caste_conflict  naxalite_maoist  organized_crime  \\\n",
       "count         612.000000      612.000000       612.000000       612.000000   \n",
       "mean            0.044118        0.016340         0.331699         0.068627   \n",
       "std             0.205524        0.126883         0.471209         0.253026   \n",
       "min             0.000000        0.000000         0.000000         0.000000   \n",
       "25%             0.000000        0.000000         0.000000         0.000000   \n",
       "50%             0.000000        0.000000         0.000000         0.000000   \n",
       "75%             0.000000        0.000000         1.000000         0.000000   \n",
       "max             1.000000        1.000000         1.000000         1.000000   \n",
       "\n",
       "       islamic_terrorism  \n",
       "count         343.000000  \n",
       "mean            0.093294  \n",
       "std             0.291270  \n",
       "min             0.000000  \n",
       "25%             0.000000  \n",
       "50%             0.000000  \n",
       "75%             0.000000  \n",
       "max             1.000000  "
      ]
     },
     "execution_count": 479,
     "metadata": {},
     "output_type": "execute_result"
    }
   ],
   "source": [
    "events.describe()"
   ]
  },
  {
   "cell_type": "markdown",
   "id": "f22f4a4d",
   "metadata": {},
   "source": [
    "## Preprocessing"
   ]
  },
  {
   "cell_type": "code",
   "execution_count": 480,
   "id": "7caffe9f",
   "metadata": {},
   "outputs": [],
   "source": [
    "# Function for processing text\n",
    "def nlp_pipeline(data):\n",
    "    # Convert to lower case\n",
    "    data['description'] = data['description'].str.lower()\n",
    "    # Remove duplicate values\n",
    "    data = data.drop_duplicates().reset_index(drop=True)\n",
    "    row_lst = []\n",
    "    lem = WordNetLemmatizer()\n",
    "    stop = stopwords.words('english')\n",
    "    for i in range(len(data)):\n",
    "        row = str(data['description'].iloc[i])\n",
    "        # Remove non-alphanumeric characters\n",
    "        row = re.sub(r'[^0-9A-Za-z]',  ' ', row)\n",
    "        # Remove stopwords and lemmatizing\n",
    "        row = ' '.join([lem.lemmatize(word) for word in row.split() if not word in set(stopwords.words('english'))])\n",
    "        row_lst.append(row)\n",
    "    data['description'] = row_lst\n",
    "    return data\n",
    "\n",
    "# Function for removing additional words\n",
    "def remove_words(data, words_to_remove):\n",
    "    row_lst = []\n",
    "    for i in range(len(data)):\n",
    "        row = str(data['description'].iloc[i])\n",
    "        for word in words_to_remove:\n",
    "            row = re.sub(word, '', row)\n",
    "        row_lst.append(row)\n",
    "    data['description'] = row_lst\n",
    "    return data"
   ]
  },
  {
   "cell_type": "code",
   "execution_count": 481,
   "id": "deff4391",
   "metadata": {
    "scrolled": false
   },
   "outputs": [
    {
     "data": {
      "text/html": [
       "<div>\n",
       "<style scoped>\n",
       "    .dataframe tbody tr th:only-of-type {\n",
       "        vertical-align: middle;\n",
       "    }\n",
       "\n",
       "    .dataframe tbody tr th {\n",
       "        vertical-align: top;\n",
       "    }\n",
       "\n",
       "    .dataframe thead th {\n",
       "        text-align: right;\n",
       "    }\n",
       "</style>\n",
       "<table border=\"1\" class=\"dataframe\">\n",
       "  <thead>\n",
       "    <tr style=\"text-align: right;\">\n",
       "      <th></th>\n",
       "      <th>description</th>\n",
       "      <th>id_satp</th>\n",
       "      <th>relevant_event</th>\n",
       "      <th>multiple_events</th>\n",
       "      <th>internal_conflict</th>\n",
       "      <th>number_casualties</th>\n",
       "      <th>number_injuries</th>\n",
       "      <th>pacification_event</th>\n",
       "      <th>economic_conditions</th>\n",
       "      <th>political_demands</th>\n",
       "      <th>communal_conflict</th>\n",
       "      <th>caste_conflict</th>\n",
       "      <th>naxalite_maoist</th>\n",
       "      <th>organized_crime</th>\n",
       "      <th>islamic_terrorism</th>\n",
       "      <th>note</th>\n",
       "    </tr>\n",
       "  </thead>\n",
       "  <tbody>\n",
       "    <tr>\n",
       "      <th>0</th>\n",
       "      <td>communist party india maoist cpi maoist comman...</td>\n",
       "      <td>ID_6103</td>\n",
       "      <td>1</td>\n",
       "      <td>0.0</td>\n",
       "      <td>1.0</td>\n",
       "      <td>1</td>\n",
       "      <td>0.0</td>\n",
       "      <td>0.0</td>\n",
       "      <td>0.0</td>\n",
       "      <td>0.0</td>\n",
       "      <td>0.0</td>\n",
       "      <td>0.0</td>\n",
       "      <td>1.0</td>\n",
       "      <td>0.0</td>\n",
       "      <td>1.0</td>\n",
       "      <td>NaN</td>\n",
       "    </tr>\n",
       "    <tr>\n",
       "      <th>1</th>\n",
       "      <td>communist party india maoist cpi maoist militi...</td>\n",
       "      <td>ID_4707</td>\n",
       "      <td>1</td>\n",
       "      <td>1.0</td>\n",
       "      <td>1.0</td>\n",
       "      <td>0</td>\n",
       "      <td>0.0</td>\n",
       "      <td>0.0</td>\n",
       "      <td>0.0</td>\n",
       "      <td>1.0</td>\n",
       "      <td>0.0</td>\n",
       "      <td>0.0</td>\n",
       "      <td>1.0</td>\n",
       "      <td>0.0</td>\n",
       "      <td>NaN</td>\n",
       "      <td>NaN</td>\n",
       "    </tr>\n",
       "    <tr>\n",
       "      <th>2</th>\n",
       "      <td>senior separatist leader syed ali shah geelani...</td>\n",
       "      <td>ID_94982</td>\n",
       "      <td>0</td>\n",
       "      <td>NaN</td>\n",
       "      <td>NaN</td>\n",
       "      <td>NaN</td>\n",
       "      <td>NaN</td>\n",
       "      <td>NaN</td>\n",
       "      <td>NaN</td>\n",
       "      <td>NaN</td>\n",
       "      <td>NaN</td>\n",
       "      <td>NaN</td>\n",
       "      <td>NaN</td>\n",
       "      <td>NaN</td>\n",
       "      <td>NaN</td>\n",
       "      <td>NaN</td>\n",
       "    </tr>\n",
       "    <tr>\n",
       "      <th>3</th>\n",
       "      <td>opposing government india goi reported decisio...</td>\n",
       "      <td>ID_17777</td>\n",
       "      <td>1</td>\n",
       "      <td>0.0</td>\n",
       "      <td>1.0</td>\n",
       "      <td>905</td>\n",
       "      <td>0.0</td>\n",
       "      <td>0.0</td>\n",
       "      <td>0.0</td>\n",
       "      <td>1.0</td>\n",
       "      <td>0.0</td>\n",
       "      <td>0.0</td>\n",
       "      <td>0.0</td>\n",
       "      <td>0.0</td>\n",
       "      <td>NaN</td>\n",
       "      <td>NaN</td>\n",
       "    </tr>\n",
       "    <tr>\n",
       "      <th>4</th>\n",
       "      <td>cadre communist party india maoist cpi maoist ...</td>\n",
       "      <td>ID_60843</td>\n",
       "      <td>1</td>\n",
       "      <td>0.0</td>\n",
       "      <td>1.0</td>\n",
       "      <td>0</td>\n",
       "      <td>0.0</td>\n",
       "      <td>0.0</td>\n",
       "      <td>0.0</td>\n",
       "      <td>0.0</td>\n",
       "      <td>0.0</td>\n",
       "      <td>0.0</td>\n",
       "      <td>1.0</td>\n",
       "      <td>0.0</td>\n",
       "      <td>NaN</td>\n",
       "      <td>NaN</td>\n",
       "    </tr>\n",
       "  </tbody>\n",
       "</table>\n",
       "</div>"
      ],
      "text/plain": [
       "                                         description   id_satp  \\\n",
       "0  communist party india maoist cpi maoist comman...   ID_6103   \n",
       "1  communist party india maoist cpi maoist militi...   ID_4707   \n",
       "2  senior separatist leader syed ali shah geelani...  ID_94982   \n",
       "3  opposing government india goi reported decisio...  ID_17777   \n",
       "4  cadre communist party india maoist cpi maoist ...  ID_60843   \n",
       "\n",
       "   relevant_event  multiple_events  internal_conflict number_casualties  \\\n",
       "0               1              0.0                1.0                 1   \n",
       "1               1              1.0                1.0                 0   \n",
       "2               0              NaN                NaN               NaN   \n",
       "3               1              0.0                1.0               905   \n",
       "4               1              0.0                1.0                 0   \n",
       "\n",
       "   number_injuries  pacification_event  economic_conditions  \\\n",
       "0              0.0                 0.0                  0.0   \n",
       "1              0.0                 0.0                  0.0   \n",
       "2              NaN                 NaN                  NaN   \n",
       "3              0.0                 0.0                  0.0   \n",
       "4              0.0                 0.0                  0.0   \n",
       "\n",
       "   political_demands  communal_conflict  caste_conflict  naxalite_maoist  \\\n",
       "0                0.0                0.0             0.0              1.0   \n",
       "1                1.0                0.0             0.0              1.0   \n",
       "2                NaN                NaN             NaN              NaN   \n",
       "3                1.0                0.0             0.0              0.0   \n",
       "4                0.0                0.0             0.0              1.0   \n",
       "\n",
       "   organized_crime  islamic_terrorism note  \n",
       "0              0.0                1.0  NaN  \n",
       "1              0.0                NaN  NaN  \n",
       "2              NaN                NaN  NaN  \n",
       "3              0.0                NaN  NaN  \n",
       "4              0.0                NaN  NaN  "
      ]
     },
     "execution_count": 481,
     "metadata": {},
     "output_type": "execute_result"
    }
   ],
   "source": [
    "# Clean data\n",
    "cleaned_events = nlp_pipeline(events)\n",
    "cleaned_events.head(5)"
   ]
  },
  {
   "cell_type": "markdown",
   "id": "2755da29",
   "metadata": {},
   "source": [
    "## Support Vector Machine for `relevant_event`"
   ]
  },
  {
   "cell_type": "markdown",
   "id": "385579e7",
   "metadata": {},
   "source": [
    "### Cross-Validation"
   ]
  },
  {
   "cell_type": "code",
   "execution_count": 791,
   "id": "a59f71b1",
   "metadata": {},
   "outputs": [],
   "source": [
    "# Define function for cross-validation\n",
    "def cross_validation(kernel, C, gamma, num_features, folds):\n",
    "    # Split dataset into folds\n",
    "    kf = KFold(n_splits=folds, shuffle=True)\n",
    "    accuracy = []\n",
    "    # SVM model\n",
    "    SVM = svm.SVC(C=C, kernel=kernel, degree=3, gamma=gamma)\n",
    "    vectorizer_tf = TfidfVectorizer(max_features=num_features)\n",
    "    encoder = LabelEncoder()\n",
    "    X = vectorizer_tf.fit_transform(cleaned_events['description']).toarray()\n",
    "    X_scaled = preprocessing.scale(X)\n",
    "    Y = encoder.fit_transform(cleaned_events['relevant_event'])\n",
    "    # Cross-validation\n",
    "    for train_idx, valid_idx in kf.split(X):\n",
    "        split_X_train, split_X_valid = X_scaled[train_idx, :], X_scaled[valid_idx, :]\n",
    "        split_Y_train, split_Y_valid = Y[train_idx], Y[valid_idx]\n",
    "        SVM.fit(split_X_train,split_Y_train)\n",
    "        predictions_SVM = SVM.predict(split_X_valid)\n",
    "        accuracy.append(accuracy_score(predictions_SVM, split_Y_valid))\n",
    "    return np.mean(accuracy), np.std(accuracy)"
   ]
  },
  {
   "cell_type": "markdown",
   "id": "a6a1efe6",
   "metadata": {},
   "source": [
    "#### 1. Number of Features\n",
    "\n",
    "First, I'm doing cross-validation to identify the optimal number of features to use in the model. I'm using a linear kernel for now."
   ]
  },
  {
   "cell_type": "code",
   "execution_count": 795,
   "id": "939e124a",
   "metadata": {},
   "outputs": [],
   "source": [
    "# Define function for cross-validation based on number of features\n",
    "def num_features_cv(min_num_features, max_num_features, interval, kernel, C, gamma):\n",
    "    num_features = np.array(range(min_num_features, max_num_features, interval))\n",
    "    folds = np.array(range(2, 6))\n",
    "    accuracy_cv = pd.DataFrame(columns = ['num_features', 'folds', 'average_cv_accuracy', 'sd_cv_accuracy'])\n",
    "    for n in num_features:\n",
    "        for f in folds:\n",
    "            mean, sd = cross_validation(kernel, C, gamma, n, f)\n",
    "            accuracy_cv = accuracy_cv.append({'num_features': n, 'folds': f, 'average_cv_accuracy': mean, 'sd_cv_accuracy': sd}, ignore_index=True)\n",
    "    accuracy_cv['num_features'] = accuracy_cv['num_features'].astype('int')\n",
    "    accuracy_cv['folds'] = accuracy_cv['folds'].astype('int')\n",
    "    grouped_features = accuracy_cv.groupby('num_features').mean().drop('folds', axis=1).sort_values(by='average_cv_accuracy', ascending=False).reset_index()\n",
    "    return accuracy_cv, grouped_features"
   ]
  },
  {
   "cell_type": "code",
   "execution_count": 806,
   "id": "905e14d7",
   "metadata": {},
   "outputs": [],
   "source": [
    "# Define function for plotting accuracy\n",
    "def plot_accuracy(x, y, data):\n",
    "    sns.lmplot(x=x, y=y, data=data)\n",
    "    plt.show()"
   ]
  },
  {
   "cell_type": "code",
   "execution_count": 808,
   "id": "654178f3",
   "metadata": {},
   "outputs": [],
   "source": [
    "# CV for number of features for whole range\n",
    "accuracy_linear_full, grouped_linear_full = num_features_cv(1, 3001, 10, 'linear', 1.0, 'auto')"
   ]
  },
  {
   "cell_type": "code",
   "execution_count": 809,
   "id": "3a07afca",
   "metadata": {},
   "outputs": [
    {
     "data": {
      "text/html": [
       "<div>\n",
       "<style scoped>\n",
       "    .dataframe tbody tr th:only-of-type {\n",
       "        vertical-align: middle;\n",
       "    }\n",
       "\n",
       "    .dataframe tbody tr th {\n",
       "        vertical-align: top;\n",
       "    }\n",
       "\n",
       "    .dataframe thead th {\n",
       "        text-align: right;\n",
       "    }\n",
       "</style>\n",
       "<table border=\"1\" class=\"dataframe\">\n",
       "  <thead>\n",
       "    <tr style=\"text-align: right;\">\n",
       "      <th></th>\n",
       "      <th>num_features</th>\n",
       "      <th>average_cv_accuracy</th>\n",
       "      <th>sd_cv_accuracy</th>\n",
       "    </tr>\n",
       "  </thead>\n",
       "  <tbody>\n",
       "    <tr>\n",
       "      <th>0</th>\n",
       "      <td>31</td>\n",
       "      <td>0.799800</td>\n",
       "      <td>0.021853</td>\n",
       "    </tr>\n",
       "    <tr>\n",
       "      <th>1</th>\n",
       "      <td>21</td>\n",
       "      <td>0.793950</td>\n",
       "      <td>0.019693</td>\n",
       "    </tr>\n",
       "    <tr>\n",
       "      <th>2</th>\n",
       "      <td>1351</td>\n",
       "      <td>0.786403</td>\n",
       "      <td>0.009975</td>\n",
       "    </tr>\n",
       "    <tr>\n",
       "      <th>3</th>\n",
       "      <td>41</td>\n",
       "      <td>0.781934</td>\n",
       "      <td>0.023614</td>\n",
       "    </tr>\n",
       "    <tr>\n",
       "      <th>4</th>\n",
       "      <td>1401</td>\n",
       "      <td>0.780909</td>\n",
       "      <td>0.018118</td>\n",
       "    </tr>\n",
       "  </tbody>\n",
       "</table>\n",
       "</div>"
      ],
      "text/plain": [
       "   num_features  average_cv_accuracy  sd_cv_accuracy\n",
       "0            31             0.799800        0.021853\n",
       "1            21             0.793950        0.019693\n",
       "2          1351             0.786403        0.009975\n",
       "3            41             0.781934        0.023614\n",
       "4          1401             0.780909        0.018118"
      ]
     },
     "execution_count": 809,
     "metadata": {},
     "output_type": "execute_result"
    }
   ],
   "source": [
    "grouped_linear_full.head(5)"
   ]
  },
  {
   "cell_type": "code",
   "execution_count": 810,
   "id": "f3d2f281",
   "metadata": {},
   "outputs": [
    {
     "data": {
      "image/png": "[encoded data removed]",
      "text/plain": [
       "<Figure size 360x360 with 1 Axes>"
      ]
     },
     "metadata": {
      "needs_background": "light"
     },
     "output_type": "display_data"
    }
   ],
   "source": [
    "# Plot accuracy for CV on full range of features\n",
    "plot_accuracy('num_features', 'average_cv_accuracy', grouped_linear_full)"
   ]
  },
  {
   "cell_type": "code",
   "execution_count": 797,
   "id": "d2112078",
   "metadata": {},
   "outputs": [],
   "source": [
    "# CV for number of features for 30-100\n",
    "accuracy_linear_small, grouped_linear_small = num_features_cv(30, 101, 1, 'linear', 1.0, 'auto')"
   ]
  },
  {
   "cell_type": "code",
   "execution_count": 803,
   "id": "25a7c169",
   "metadata": {},
   "outputs": [
    {
     "data": {
      "text/html": [
       "<div>\n",
       "<style scoped>\n",
       "    .dataframe tbody tr th:only-of-type {\n",
       "        vertical-align: middle;\n",
       "    }\n",
       "\n",
       "    .dataframe tbody tr th {\n",
       "        vertical-align: top;\n",
       "    }\n",
       "\n",
       "    .dataframe thead th {\n",
       "        text-align: right;\n",
       "    }\n",
       "</style>\n",
       "<table border=\"1\" class=\"dataframe\">\n",
       "  <thead>\n",
       "    <tr style=\"text-align: right;\">\n",
       "      <th></th>\n",
       "      <th>num_features</th>\n",
       "      <th>average_cv_accuracy</th>\n",
       "      <th>sd_cv_accuracy</th>\n",
       "    </tr>\n",
       "  </thead>\n",
       "  <tbody>\n",
       "    <tr>\n",
       "      <th>0</th>\n",
       "      <td>32</td>\n",
       "      <td>0.800831</td>\n",
       "      <td>0.017576</td>\n",
       "    </tr>\n",
       "    <tr>\n",
       "      <th>1</th>\n",
       "      <td>31</td>\n",
       "      <td>0.798754</td>\n",
       "      <td>0.019040</td>\n",
       "    </tr>\n",
       "    <tr>\n",
       "      <th>2</th>\n",
       "      <td>30</td>\n",
       "      <td>0.797413</td>\n",
       "      <td>0.024821</td>\n",
       "    </tr>\n",
       "    <tr>\n",
       "      <th>3</th>\n",
       "      <td>34</td>\n",
       "      <td>0.795005</td>\n",
       "      <td>0.022131</td>\n",
       "    </tr>\n",
       "    <tr>\n",
       "      <th>4</th>\n",
       "      <td>37</td>\n",
       "      <td>0.787430</td>\n",
       "      <td>0.017144</td>\n",
       "    </tr>\n",
       "  </tbody>\n",
       "</table>\n",
       "</div>"
      ],
      "text/plain": [
       "   num_features  average_cv_accuracy  sd_cv_accuracy\n",
       "0            32             0.800831        0.017576\n",
       "1            31             0.798754        0.019040\n",
       "2            30             0.797413        0.024821\n",
       "3            34             0.795005        0.022131\n",
       "4            37             0.787430        0.017144"
      ]
     },
     "execution_count": 803,
     "metadata": {},
     "output_type": "execute_result"
    }
   ],
   "source": [
    "grouped_linear_small.head(5)"
   ]
  },
  {
   "cell_type": "code",
   "execution_count": 807,
   "id": "45954333",
   "metadata": {
    "scrolled": false
   },
   "outputs": [
    {
     "data": {
      "image/png": "[encoded data removed]",
      "text/plain": [
       "<Figure size 360x360 with 1 Axes>"
      ]
     },
     "metadata": {
      "needs_background": "light"
     },
     "output_type": "display_data"
    }
   ],
   "source": [
    "# Plot accuracy for CV on restricted range\n",
    "plot_accuracy('num_features', 'average_cv_accuracy', grouped_linear_small)"
   ]
  },
  {
   "cell_type": "markdown",
   "id": "10af0ed4",
   "metadata": {},
   "source": [
    "#### 2. Kernel type\n",
    "\n",
    "Next, I'm repeating the cross-validation using the RBF kernel (as opposed to the linear kernel used in the previous section)."
   ]
  },
  {
   "cell_type": "code",
   "execution_count": 811,
   "id": "6c33b3b7",
   "metadata": {},
   "outputs": [],
   "source": [
    "# CV for number of features for whole range\n",
    "accuracy_rbf_full, grouped_rbf_full = num_features_cv(1, 3001, 10, 'rbf', 1.0, 'auto')"
   ]
  },
  {
   "cell_type": "code",
   "execution_count": 812,
   "id": "7d931a68",
   "metadata": {},
   "outputs": [
    {
     "data": {
      "text/html": [
       "<div>\n",
       "<style scoped>\n",
       "    .dataframe tbody tr th:only-of-type {\n",
       "        vertical-align: middle;\n",
       "    }\n",
       "\n",
       "    .dataframe tbody tr th {\n",
       "        vertical-align: top;\n",
       "    }\n",
       "\n",
       "    .dataframe thead th {\n",
       "        text-align: right;\n",
       "    }\n",
       "</style>\n",
       "<table border=\"1\" class=\"dataframe\">\n",
       "  <thead>\n",
       "    <tr style=\"text-align: right;\">\n",
       "      <th></th>\n",
       "      <th>num_features</th>\n",
       "      <th>average_cv_accuracy</th>\n",
       "      <th>sd_cv_accuracy</th>\n",
       "    </tr>\n",
       "  </thead>\n",
       "  <tbody>\n",
       "    <tr>\n",
       "      <th>0</th>\n",
       "      <td>31</td>\n",
       "      <td>0.807687</td>\n",
       "      <td>0.018708</td>\n",
       "    </tr>\n",
       "    <tr>\n",
       "      <th>1</th>\n",
       "      <td>41</td>\n",
       "      <td>0.797380</td>\n",
       "      <td>0.015903</td>\n",
       "    </tr>\n",
       "    <tr>\n",
       "      <th>2</th>\n",
       "      <td>111</td>\n",
       "      <td>0.795687</td>\n",
       "      <td>0.013703</td>\n",
       "    </tr>\n",
       "    <tr>\n",
       "      <th>3</th>\n",
       "      <td>51</td>\n",
       "      <td>0.790517</td>\n",
       "      <td>0.028689</td>\n",
       "    </tr>\n",
       "    <tr>\n",
       "      <th>4</th>\n",
       "      <td>21</td>\n",
       "      <td>0.789163</td>\n",
       "      <td>0.022220</td>\n",
       "    </tr>\n",
       "  </tbody>\n",
       "</table>\n",
       "</div>"
      ],
      "text/plain": [
       "   num_features  average_cv_accuracy  sd_cv_accuracy\n",
       "0            31             0.807687        0.018708\n",
       "1            41             0.797380        0.015903\n",
       "2           111             0.795687        0.013703\n",
       "3            51             0.790517        0.028689\n",
       "4            21             0.789163        0.022220"
      ]
     },
     "execution_count": 812,
     "metadata": {},
     "output_type": "execute_result"
    }
   ],
   "source": [
    "grouped_rbf_full.head(5)"
   ]
  },
  {
   "cell_type": "code",
   "execution_count": 813,
   "id": "9ce0204a",
   "metadata": {},
   "outputs": [
    {
     "data": {
      "image/png": "[encoded data removed]",
      "text/plain": [
       "<Figure size 360x360 with 1 Axes>"
      ]
     },
     "metadata": {
      "needs_background": "light"
     },
     "output_type": "display_data"
    }
   ],
   "source": [
    "# Plot accuracy for CV on full range of features\n",
    "plot_accuracy('num_features', 'average_cv_accuracy', grouped_rbf_full)"
   ]
  },
  {
   "cell_type": "code",
   "execution_count": 814,
   "id": "ef20f7cb",
   "metadata": {},
   "outputs": [],
   "source": [
    "# CV for number of features for 30-100\n",
    "accuracy_rbf_small, grouped_rbf_small = num_features_cv(30, 101, 1, 'rbf', 1.0, 'auto')"
   ]
  },
  {
   "cell_type": "code",
   "execution_count": 815,
   "id": "bc3bc4ac",
   "metadata": {},
   "outputs": [
    {
     "data": {
      "text/html": [
       "<div>\n",
       "<style scoped>\n",
       "    .dataframe tbody tr th:only-of-type {\n",
       "        vertical-align: middle;\n",
       "    }\n",
       "\n",
       "    .dataframe tbody tr th {\n",
       "        vertical-align: top;\n",
       "    }\n",
       "\n",
       "    .dataframe thead th {\n",
       "        text-align: right;\n",
       "    }\n",
       "</style>\n",
       "<table border=\"1\" class=\"dataframe\">\n",
       "  <thead>\n",
       "    <tr style=\"text-align: right;\">\n",
       "      <th></th>\n",
       "      <th>num_features</th>\n",
       "      <th>average_cv_accuracy</th>\n",
       "      <th>sd_cv_accuracy</th>\n",
       "    </tr>\n",
       "  </thead>\n",
       "  <tbody>\n",
       "    <tr>\n",
       "      <th>0</th>\n",
       "      <td>32</td>\n",
       "      <td>0.814553</td>\n",
       "      <td>0.015352</td>\n",
       "    </tr>\n",
       "    <tr>\n",
       "      <th>1</th>\n",
       "      <td>30</td>\n",
       "      <td>0.809748</td>\n",
       "      <td>0.023023</td>\n",
       "    </tr>\n",
       "    <tr>\n",
       "      <th>2</th>\n",
       "      <td>33</td>\n",
       "      <td>0.807704</td>\n",
       "      <td>0.023844</td>\n",
       "    </tr>\n",
       "    <tr>\n",
       "      <th>3</th>\n",
       "      <td>35</td>\n",
       "      <td>0.807359</td>\n",
       "      <td>0.022795</td>\n",
       "    </tr>\n",
       "    <tr>\n",
       "      <th>4</th>\n",
       "      <td>31</td>\n",
       "      <td>0.804606</td>\n",
       "      <td>0.019837</td>\n",
       "    </tr>\n",
       "  </tbody>\n",
       "</table>\n",
       "</div>"
      ],
      "text/plain": [
       "   num_features  average_cv_accuracy  sd_cv_accuracy\n",
       "0            32             0.814553        0.015352\n",
       "1            30             0.809748        0.023023\n",
       "2            33             0.807704        0.023844\n",
       "3            35             0.807359        0.022795\n",
       "4            31             0.804606        0.019837"
      ]
     },
     "execution_count": 815,
     "metadata": {},
     "output_type": "execute_result"
    }
   ],
   "source": [
    "grouped_rbf_small.head(5)"
   ]
  },
  {
   "cell_type": "code",
   "execution_count": 816,
   "id": "e6869525",
   "metadata": {
    "scrolled": false
   },
   "outputs": [
    {
     "data": {
      "image/png": "[encoded data removed]",
      "text/plain": [
       "<Figure size 360x360 with 1 Axes>"
      ]
     },
     "metadata": {
      "needs_background": "light"
     },
     "output_type": "display_data"
    }
   ],
   "source": [
    "# Plot accuracy for CV on restricted range\n",
    "plot_accuracy('num_features', 'average_cv_accuracy', grouped_rbf_small)"
   ]
  },
  {
   "cell_type": "markdown",
   "id": "e8dbaeb5",
   "metadata": {},
   "source": [
    "Results:\n",
    "- CV doesn't show a significant difference between RBF and linear kernels but RBF is considered better so I'll go with that (plus test accuracy is higher with RBF).\n",
    "- CV shows that 32 is the ideal number of features."
   ]
  },
  {
   "cell_type": "markdown",
   "id": "2fdb7033",
   "metadata": {},
   "source": [
    "## Training \n",
    "\n",
    "Train the model and compute the testing accuracy using the hyperparameters found using cross-validation."
   ]
  },
  {
   "cell_type": "code",
   "execution_count": 822,
   "id": "b7c24d58",
   "metadata": {},
   "outputs": [],
   "source": [
    "# Vectorize the data using TFIDF\n",
    "vectorizer_tf = TfidfVectorizer(max_features=32)\n",
    "tf = vectorizer_tf.fit_transform(cleaned_events['description'])\n",
    "tf_scaled = preprocessing.scale(tf.toarray())"
   ]
  },
  {
   "cell_type": "code",
   "execution_count": 850,
   "id": "f3572d6f",
   "metadata": {
    "scrolled": false
   },
   "outputs": [
    {
     "data": {
      "text/plain": [
       "{'communist': 6,\n",
       " 'party': 20,\n",
       " 'india': 13,\n",
       " 'maoist': 15,\n",
       " 'cpi': 7,\n",
       " 'cadre': 4,\n",
       " 'arrested': 3,\n",
       " 'district': 8,\n",
       " 'report': 24,\n",
       " 'said': 25,\n",
       " 'identified': 12,\n",
       " 'village': 31,\n",
       " 'security': 26,\n",
       " 'force': 9,\n",
       " 'police': 22,\n",
       " 'area': 2,\n",
       " 'recovered': 23,\n",
       " 'two': 30,\n",
       " 'government': 10,\n",
       " 'three': 29,\n",
       " 'militant': 16,\n",
       " 'group': 11,\n",
       " 'chief': 5,\n",
       " 'minister': 17,\n",
       " 'state': 27,\n",
       " 'terrorist': 28,\n",
       " 'according': 0,\n",
       " 'one': 19,\n",
       " 'also': 1,\n",
       " 'national': 18,\n",
       " 'killed': 14,\n",
       " 'people': 21}"
      ]
     },
     "execution_count": 850,
     "metadata": {},
     "output_type": "execute_result"
    }
   ],
   "source": [
    "# Features selected by TFIDF\n",
    "vectorizer_tf.vocabulary_"
   ]
  },
  {
   "cell_type": "markdown",
   "id": "974a5ea6",
   "metadata": {},
   "source": [
    "- Remove some words?"
   ]
  },
  {
   "cell_type": "code",
   "execution_count": 826,
   "id": "9fb5022a",
   "metadata": {},
   "outputs": [],
   "source": [
    "# Train-test split\n",
    "X_train, X_test, y_train, y_test = train_test_split(tf_scaled, cleaned_events['relevant_event'], test_size=0.25, random_state=42)"
   ]
  },
  {
   "cell_type": "code",
   "execution_count": 827,
   "id": "4a424a65",
   "metadata": {},
   "outputs": [],
   "source": [
    "# Label encoding - transform the outcome variable to a suitable format for classification\n",
    "encoder = LabelEncoder()\n",
    "y_train = encoder.fit_transform(y_train)\n",
    "y_test = encoder.fit_transform(y_test)"
   ]
  },
  {
   "cell_type": "code",
   "execution_count": 828,
   "id": "4521d7a2",
   "metadata": {},
   "outputs": [
    {
     "name": "stdout",
     "output_type": "stream",
     "text": [
      "Test accuracy: 84.61538461538461\n"
     ]
    }
   ],
   "source": [
    "# Train the SVM model and use it for prediction\n",
    "SVM = svm.SVC(C=1, kernel='rbf', degree=3, gamma='auto')\n",
    "SVM.fit(X_train,y_train)\n",
    "predictions_SVM = SVM.predict(X_test)"
   ]
  },
  {
   "cell_type": "markdown",
   "id": "af900414",
   "metadata": {},
   "source": [
    "## Evaluation"
   ]
  },
  {
   "cell_type": "code",
   "execution_count": 854,
   "id": "28c64d57",
   "metadata": {},
   "outputs": [
    {
     "name": "stdout",
     "output_type": "stream",
     "text": [
      "Test accuracy: 84.61538461538461\n"
     ]
    }
   ],
   "source": [
    "print(\"Test accuracy:\", accuracy_score(predictions_SVM, y_test)*100)"
   ]
  },
  {
   "cell_type": "code",
   "execution_count": 847,
   "id": "78f34844",
   "metadata": {},
   "outputs": [
    {
     "data": {
      "image/png": "[encoded data removed]",
      "text/plain": [
       "<Figure size 432x288 with 2 Axes>"
      ]
     },
     "metadata": {
      "needs_background": "light"
     },
     "output_type": "display_data"
    }
   ],
   "source": [
    "# Confusion matrix to show false positives and negatives\n",
    "cm = confusion_matrix(y_test, predictions_SVM)\n",
    "sns.heatmap(cm, annot=True, fmt = 'd', cmap = 'Blues', annot_kws = {'size': 16})\n",
    "plt.xlabel('Predicted')\n",
    "plt.ylabel('Actual');"
   ]
  },
  {
   "cell_type": "code",
   "execution_count": 849,
   "id": "7b4e5b09",
   "metadata": {},
   "outputs": [
    {
     "name": "stdout",
     "output_type": "stream",
     "text": [
      "False positives: 17\n",
      "True positives: 120\n",
      "False negatives: 11\n",
      "True negatives: 34\n",
      "Total: 182\n",
      "\n",
      "Recall: 0.916030534351145\n",
      "Precision: 0.8759124087591241\n"
     ]
    }
   ],
   "source": [
    "# Computing prediciton and recall\n",
    "fp = cm[0, 1]\n",
    "tp = cm[1, 1]\n",
    "fn = cm[1, 0]\n",
    "tn = cm[0, 0]\n",
    "total = fp + tp + fn + tn\n",
    "# How many relevant events are accurately identified?\n",
    "recall = tp / (tp + fn)\n",
    "# How many events identified as relevant are actually relevant?\n",
    "precision = tp / (tp + fp)\n",
    "\n",
    "print('False positives:', fp)\n",
    "print('True positives:', tp)\n",
    "print('False negatives:', fn)\n",
    "print('True negatives:', tn)\n",
    "print('Total:', total)\n",
    "print()\n",
    "print('Recall:', recall)\n",
    "print('Precision:', precision)"
   ]
  },
  {
   "cell_type": "markdown",
   "id": "90f92928",
   "metadata": {},
   "source": [
    "----"
   ]
  }
 ],
 "metadata": {
  "kernelspec": {
   "display_name": "Python 3 (ipykernel)",
   "language": "python",
   "name": "python3"
  },
  "language_info": {
   "codemirror_mode": {
    "name": "ipython",
    "version": 3
   },
   "file_extension": ".py",
   "mimetype": "text/x-python",
   "name": "python",
   "nbconvert_exporter": "python",
   "pygments_lexer": "ipython3",
   "version": "3.9.7"
  }
 },
 "nbformat": 4,
 "nbformat_minor": 5
}
