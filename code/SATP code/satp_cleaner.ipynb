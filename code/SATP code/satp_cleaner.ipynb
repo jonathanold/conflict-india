{
 "cells": [
  {
   "cell_type": "code",
   "execution_count": 11,
   "metadata": {},
   "outputs": [
    {
     "name": "stderr",
     "output_type": "stream",
     "text": [
      "[nltk_data] Downloading package stopwords to\n",
      "[nltk_data]     C:\\Users\\varun\\AppData\\Roaming\\nltk_data...\n",
      "[nltk_data]   Package stopwords is already up-to-date!\n",
      "[nltk_data] Downloading package wordnet to\n",
      "[nltk_data]     C:\\Users\\varun\\AppData\\Roaming\\nltk_data...\n",
      "[nltk_data]   Package wordnet is already up-to-date!\n"
     ]
    },
    {
     "data": {
      "text/plain": [
       "True"
      ]
     },
     "execution_count": 11,
     "metadata": {},
     "output_type": "execute_result"
    }
   ],
   "source": [
    "import pandas as pd\n",
    "import numpy as np\n",
    "import re\n",
    "import nltk\n",
    "from nltk.corpus import stopwords\n",
    "from nltk.stem import WordNetLemmatizer\n",
    "from nltk.tokenize import word_tokenize\n",
    "nltk.download('stopwords')\n",
    "nltk.download('wordnet')"
   ]
  },
  {
   "cell_type": "code",
   "execution_count": 39,
   "metadata": {},
   "outputs": [
    {
     "data": {
      "text/html": [
       "<div>\n",
       "<style scoped>\n",
       "    .dataframe tbody tr th:only-of-type {\n",
       "        vertical-align: middle;\n",
       "    }\n",
       "\n",
       "    .dataframe tbody tr th {\n",
       "        vertical-align: top;\n",
       "    }\n",
       "\n",
       "    .dataframe thead th {\n",
       "        text-align: right;\n",
       "    }\n",
       "</style>\n",
       "<table border=\"1\" class=\"dataframe\">\n",
       "  <thead>\n",
       "    <tr style=\"text-align: right;\">\n",
       "      <th></th>\n",
       "      <th>description</th>\n",
       "      <th>year</th>\n",
       "    </tr>\n",
       "  </thead>\n",
       "  <tbody>\n",
       "    <tr>\n",
       "      <th>0</th>\n",
       "      <td>A Special Police Officer (SPO), identified as ...</td>\n",
       "      <td>2019.0</td>\n",
       "    </tr>\n",
       "    <tr>\n",
       "      <th>1</th>\n",
       "      <td>Armed Forces Special Powers Act (AFSPA) has be...</td>\n",
       "      <td>2019.0</td>\n",
       "    </tr>\n",
       "    <tr>\n",
       "      <th>2</th>\n",
       "      <td>On January 1, an ex-United Liberation Front of...</td>\n",
       "      <td>2019.0</td>\n",
       "    </tr>\n",
       "    <tr>\n",
       "      <th>3</th>\n",
       "      <td>The number of objections filed on the draft of...</td>\n",
       "      <td>2019.0</td>\n",
       "    </tr>\n",
       "    <tr>\n",
       "      <th>4</th>\n",
       "      <td>The Year 2019 will be challenging for the Odis...</td>\n",
       "      <td>2019.0</td>\n",
       "    </tr>\n",
       "    <tr>\n",
       "      <th>...</th>\n",
       "      <td>...</td>\n",
       "      <td>...</td>\n",
       "    </tr>\n",
       "    <tr>\n",
       "      <th>5293</th>\n",
       "      <td>Naga Students Federation (NSF) on December 31,...</td>\n",
       "      <td>2019.0</td>\n",
       "    </tr>\n",
       "    <tr>\n",
       "      <th>5294</th>\n",
       "      <td>National Register of Citizens (NRC) officials ...</td>\n",
       "      <td>2019.0</td>\n",
       "    </tr>\n",
       "    <tr>\n",
       "      <th>5295</th>\n",
       "      <td>Naxalites [Left Wing Extremists, LWEs] set abl...</td>\n",
       "      <td>2019.0</td>\n",
       "    </tr>\n",
       "    <tr>\n",
       "      <th>5296</th>\n",
       "      <td>The Northeast Today reports that an official s...</td>\n",
       "      <td>2019.0</td>\n",
       "    </tr>\n",
       "    <tr>\n",
       "      <th>5297</th>\n",
       "      <td>The Shillong Times reports on January 1, that ...</td>\n",
       "      <td>2019.0</td>\n",
       "    </tr>\n",
       "  </tbody>\n",
       "</table>\n",
       "<p>5298 rows × 2 columns</p>\n",
       "</div>"
      ],
      "text/plain": [
       "                                            description    year\n",
       "0     A Special Police Officer (SPO), identified as ...  2019.0\n",
       "1     Armed Forces Special Powers Act (AFSPA) has be...  2019.0\n",
       "2     On January 1, an ex-United Liberation Front of...  2019.0\n",
       "3     The number of objections filed on the draft of...  2019.0\n",
       "4     The Year 2019 will be challenging for the Odis...  2019.0\n",
       "...                                                 ...     ...\n",
       "5293  Naga Students Federation (NSF) on December 31,...  2019.0\n",
       "5294  National Register of Citizens (NRC) officials ...  2019.0\n",
       "5295  Naxalites [Left Wing Extremists, LWEs] set abl...  2019.0\n",
       "5296  The Northeast Today reports that an official s...  2019.0\n",
       "5297  The Shillong Times reports on January 1, that ...  2019.0\n",
       "\n",
       "[5298 rows x 2 columns]"
      ]
     },
     "execution_count": 39,
     "metadata": {},
     "output_type": "execute_result"
    }
   ],
   "source": [
    "satp = pd.read_csv('C:/Users/varun/OneDrive/Desktop/conflict-india/data/dataset_satp_2019.csv')\n",
    "satp"
   ]
  },
  {
   "cell_type": "code",
   "execution_count": 40,
   "metadata": {},
   "outputs": [
    {
     "data": {
      "text/html": [
       "<div>\n",
       "<style scoped>\n",
       "    .dataframe tbody tr th:only-of-type {\n",
       "        vertical-align: middle;\n",
       "    }\n",
       "\n",
       "    .dataframe tbody tr th {\n",
       "        vertical-align: top;\n",
       "    }\n",
       "\n",
       "    .dataframe thead th {\n",
       "        text-align: right;\n",
       "    }\n",
       "</style>\n",
       "<table border=\"1\" class=\"dataframe\">\n",
       "  <thead>\n",
       "    <tr style=\"text-align: right;\">\n",
       "      <th></th>\n",
       "      <th>description</th>\n",
       "      <th>year</th>\n",
       "    </tr>\n",
       "  </thead>\n",
       "  <tbody>\n",
       "    <tr>\n",
       "      <th>0</th>\n",
       "      <td>a special police officer (spo), identified as ...</td>\n",
       "      <td>2019.0</td>\n",
       "    </tr>\n",
       "    <tr>\n",
       "      <th>1</th>\n",
       "      <td>armed forces special powers act (afspa) has be...</td>\n",
       "      <td>2019.0</td>\n",
       "    </tr>\n",
       "    <tr>\n",
       "      <th>2</th>\n",
       "      <td>on january 1, an ex-united liberation front of...</td>\n",
       "      <td>2019.0</td>\n",
       "    </tr>\n",
       "    <tr>\n",
       "      <th>3</th>\n",
       "      <td>the number of objections filed on the draft of...</td>\n",
       "      <td>2019.0</td>\n",
       "    </tr>\n",
       "    <tr>\n",
       "      <th>4</th>\n",
       "      <td>the year 2019 will be challenging for the odis...</td>\n",
       "      <td>2019.0</td>\n",
       "    </tr>\n",
       "    <tr>\n",
       "      <th>...</th>\n",
       "      <td>...</td>\n",
       "      <td>...</td>\n",
       "    </tr>\n",
       "    <tr>\n",
       "      <th>5293</th>\n",
       "      <td>naga students federation (nsf) on december 31,...</td>\n",
       "      <td>2019.0</td>\n",
       "    </tr>\n",
       "    <tr>\n",
       "      <th>5294</th>\n",
       "      <td>national register of citizens (nrc) officials ...</td>\n",
       "      <td>2019.0</td>\n",
       "    </tr>\n",
       "    <tr>\n",
       "      <th>5295</th>\n",
       "      <td>naxalites [left wing extremists, lwes] set abl...</td>\n",
       "      <td>2019.0</td>\n",
       "    </tr>\n",
       "    <tr>\n",
       "      <th>5296</th>\n",
       "      <td>the northeast today reports that an official s...</td>\n",
       "      <td>2019.0</td>\n",
       "    </tr>\n",
       "    <tr>\n",
       "      <th>5297</th>\n",
       "      <td>the shillong times reports on january 1, that ...</td>\n",
       "      <td>2019.0</td>\n",
       "    </tr>\n",
       "  </tbody>\n",
       "</table>\n",
       "<p>5298 rows × 2 columns</p>\n",
       "</div>"
      ],
      "text/plain": [
       "                                            description    year\n",
       "0     a special police officer (spo), identified as ...  2019.0\n",
       "1     armed forces special powers act (afspa) has be...  2019.0\n",
       "2     on january 1, an ex-united liberation front of...  2019.0\n",
       "3     the number of objections filed on the draft of...  2019.0\n",
       "4     the year 2019 will be challenging for the odis...  2019.0\n",
       "...                                                 ...     ...\n",
       "5293  naga students federation (nsf) on december 31,...  2019.0\n",
       "5294  national register of citizens (nrc) officials ...  2019.0\n",
       "5295  naxalites [left wing extremists, lwes] set abl...  2019.0\n",
       "5296  the northeast today reports that an official s...  2019.0\n",
       "5297  the shillong times reports on january 1, that ...  2019.0\n",
       "\n",
       "[5298 rows x 2 columns]"
      ]
     },
     "execution_count": 40,
     "metadata": {},
     "output_type": "execute_result"
    }
   ],
   "source": [
    "# cleaning data\n",
    "satp['description'] = satp['description'].str.lower()\n",
    "satp"
   ]
  },
  {
   "cell_type": "code",
   "execution_count": 41,
   "metadata": {},
   "outputs": [
    {
     "data": {
      "text/plain": [
       "'a special police officer (spo), identified as sameer ahmad was killed by suspected militants at hajan in pulwama district on january 1 evening, reports daily excelsior. sources said that suspected militants fired at sameer ahmad. the injured was immediately taken to a hospital where he was declared as brought dead, sources said. they said the militants managed to escape under the cover of darkness. security forces were rushed and a search operation was launched to nab the attackers, they added'"
      ]
     },
     "execution_count": 41,
     "metadata": {},
     "output_type": "execute_result"
    }
   ],
   "source": [
    "satp['description'][0]"
   ]
  },
  {
   "cell_type": "code",
   "execution_count": 42,
   "metadata": {},
   "outputs": [
    {
     "data": {
      "text/plain": [
       "'special police officer spo identified sameer ahmad killed suspected militant hajan pulwama district january 1 evening report daily excelsior source said suspected militant fired sameer ahmad injured immediately taken hospital declared brought dead source said said militant managed escape cover darkness security force rushed search operation launched nab attacker added'"
      ]
     },
     "execution_count": 42,
     "metadata": {},
     "output_type": "execute_result"
    }
   ],
   "source": [
    "data = []\n",
    "wl = WordNetLemmatizer()\n",
    "for i in range(len(satp)):\n",
    "    # removes unnecessary characters\n",
    "    row = re.sub('[^a-zA-Z0-9 ]', '', satp['description'][i])\n",
    "    # tokenization\n",
    "    row = row.split()\n",
    "    # lemmatization and stop words removal\n",
    "    row = [wl.lemmatize(word) for word in row if not word in set(stopwords.words('english'))]\n",
    "    \n",
    "    data.append(' '.join(row))\n",
    "\n",
    "\n",
    "satp['description'] = data\n",
    "satp['description'][0]"
   ]
  },
  {
   "cell_type": "code",
   "execution_count": null,
   "metadata": {},
   "outputs": [],
   "source": []
  },
  {
   "cell_type": "code",
   "execution_count": null,
   "metadata": {},
   "outputs": [],
   "source": []
  },
  {
   "cell_type": "code",
   "execution_count": null,
   "metadata": {},
   "outputs": [],
   "source": []
  }
 ],
 "metadata": {
  "kernelspec": {
   "display_name": "Python 3",
   "language": "python",
   "name": "python3"
  },
  "language_info": {
   "codemirror_mode": {
    "name": "ipython",
    "version": 3
   },
   "file_extension": ".py",
   "mimetype": "text/x-python",
   "name": "python",
   "nbconvert_exporter": "python",
   "pygments_lexer": "ipython3",
   "version": "3.11.5"
  },
  "orig_nbformat": 4
 },
 "nbformat": 4,
 "nbformat_minor": 2
}
