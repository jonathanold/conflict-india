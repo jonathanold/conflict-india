{
 "cells": [
  {
   "cell_type": "code",
   "execution_count": 53,
   "metadata": {},
   "outputs": [
    {
     "name": "stderr",
     "output_type": "stream",
     "text": [
      "[nltk_data] Downloading package stopwords to\n",
      "[nltk_data]     C:\\Users\\varun\\AppData\\Roaming\\nltk_data...\n",
      "[nltk_data]   Package stopwords is already up-to-date!\n",
      "[nltk_data] Downloading package wordnet to\n",
      "[nltk_data]     C:\\Users\\varun\\AppData\\Roaming\\nltk_data...\n",
      "[nltk_data]   Package wordnet is already up-to-date!\n"
     ]
    },
    {
     "data": {
      "text/plain": [
       "True"
      ]
     },
     "execution_count": 53,
     "metadata": {},
     "output_type": "execute_result"
    }
   ],
   "source": [
    "import pandas as pd\n",
    "import numpy as np\n",
    "import re\n",
    "import nltk\n",
    "from nltk.corpus import stopwords\n",
    "from nltk.stem import WordNetLemmatizer\n",
    "from nltk.tokenize import word_tokenize\n",
    "nltk.download('stopwords')\n",
    "nltk.download('wordnet')"
   ]
  },
  {
   "cell_type": "code",
   "execution_count": 65,
   "metadata": {},
   "outputs": [
    {
     "data": {
      "text/html": [
       "<div>\n",
       "<style scoped>\n",
       "    .dataframe tbody tr th:only-of-type {\n",
       "        vertical-align: middle;\n",
       "    }\n",
       "\n",
       "    .dataframe tbody tr th {\n",
       "        vertical-align: top;\n",
       "    }\n",
       "\n",
       "    .dataframe thead th {\n",
       "        text-align: right;\n",
       "    }\n",
       "</style>\n",
       "<table border=\"1\" class=\"dataframe\">\n",
       "  <thead>\n",
       "    <tr style=\"text-align: right;\">\n",
       "      <th></th>\n",
       "      <th>description</th>\n",
       "      <th>year</th>\n",
       "    </tr>\n",
       "  </thead>\n",
       "  <tbody>\n",
       "    <tr>\n",
       "      <th>0</th>\n",
       "      <td>A Special Police Officer (SPO), identified as ...</td>\n",
       "      <td>2019.0</td>\n",
       "    </tr>\n",
       "    <tr>\n",
       "      <th>1</th>\n",
       "      <td>Armed Forces Special Powers Act (AFSPA) has be...</td>\n",
       "      <td>2019.0</td>\n",
       "    </tr>\n",
       "    <tr>\n",
       "      <th>2</th>\n",
       "      <td>On January 1, an ex-United Liberation Front of...</td>\n",
       "      <td>2019.0</td>\n",
       "    </tr>\n",
       "    <tr>\n",
       "      <th>3</th>\n",
       "      <td>The number of objections filed on the draft of...</td>\n",
       "      <td>2019.0</td>\n",
       "    </tr>\n",
       "    <tr>\n",
       "      <th>4</th>\n",
       "      <td>The Year 2019 will be challenging for the Odis...</td>\n",
       "      <td>2019.0</td>\n",
       "    </tr>\n",
       "    <tr>\n",
       "      <th>...</th>\n",
       "      <td>...</td>\n",
       "      <td>...</td>\n",
       "    </tr>\n",
       "    <tr>\n",
       "      <th>5293</th>\n",
       "      <td>Naga Students Federation (NSF) on December 31,...</td>\n",
       "      <td>2019.0</td>\n",
       "    </tr>\n",
       "    <tr>\n",
       "      <th>5294</th>\n",
       "      <td>National Register of Citizens (NRC) officials ...</td>\n",
       "      <td>2019.0</td>\n",
       "    </tr>\n",
       "    <tr>\n",
       "      <th>5295</th>\n",
       "      <td>Naxalites [Left Wing Extremists, LWEs] set abl...</td>\n",
       "      <td>2019.0</td>\n",
       "    </tr>\n",
       "    <tr>\n",
       "      <th>5296</th>\n",
       "      <td>The Northeast Today reports that an official s...</td>\n",
       "      <td>2019.0</td>\n",
       "    </tr>\n",
       "    <tr>\n",
       "      <th>5297</th>\n",
       "      <td>The Shillong Times reports on January 1, that ...</td>\n",
       "      <td>2019.0</td>\n",
       "    </tr>\n",
       "  </tbody>\n",
       "</table>\n",
       "<p>5298 rows × 2 columns</p>\n",
       "</div>"
      ],
      "text/plain": [
       "                                            description    year\n",
       "0     A Special Police Officer (SPO), identified as ...  2019.0\n",
       "1     Armed Forces Special Powers Act (AFSPA) has be...  2019.0\n",
       "2     On January 1, an ex-United Liberation Front of...  2019.0\n",
       "3     The number of objections filed on the draft of...  2019.0\n",
       "4     The Year 2019 will be challenging for the Odis...  2019.0\n",
       "...                                                 ...     ...\n",
       "5293  Naga Students Federation (NSF) on December 31,...  2019.0\n",
       "5294  National Register of Citizens (NRC) officials ...  2019.0\n",
       "5295  Naxalites [Left Wing Extremists, LWEs] set abl...  2019.0\n",
       "5296  The Northeast Today reports that an official s...  2019.0\n",
       "5297  The Shillong Times reports on January 1, that ...  2019.0\n",
       "\n",
       "[5298 rows x 2 columns]"
      ]
     },
     "execution_count": 65,
     "metadata": {},
     "output_type": "execute_result"
    }
   ],
   "source": [
    "satp = pd.read_csv('C:/Users/varun/OneDrive/Desktop/conflict-india/data/dataset_satp_2019.csv')\n",
    "satp"
   ]
  },
  {
   "cell_type": "code",
   "execution_count": 66,
   "metadata": {},
   "outputs": [
    {
     "data": {
      "text/html": [
       "<div>\n",
       "<style scoped>\n",
       "    .dataframe tbody tr th:only-of-type {\n",
       "        vertical-align: middle;\n",
       "    }\n",
       "\n",
       "    .dataframe tbody tr th {\n",
       "        vertical-align: top;\n",
       "    }\n",
       "\n",
       "    .dataframe thead th {\n",
       "        text-align: right;\n",
       "    }\n",
       "</style>\n",
       "<table border=\"1\" class=\"dataframe\">\n",
       "  <thead>\n",
       "    <tr style=\"text-align: right;\">\n",
       "      <th></th>\n",
       "      <th>description</th>\n",
       "      <th>year</th>\n",
       "    </tr>\n",
       "  </thead>\n",
       "  <tbody>\n",
       "    <tr>\n",
       "      <th>0</th>\n",
       "      <td>a special police officer (spo), identified as ...</td>\n",
       "      <td>2019.0</td>\n",
       "    </tr>\n",
       "    <tr>\n",
       "      <th>1</th>\n",
       "      <td>armed forces special powers act (afspa) has be...</td>\n",
       "      <td>2019.0</td>\n",
       "    </tr>\n",
       "    <tr>\n",
       "      <th>2</th>\n",
       "      <td>on january 1, an ex-united liberation front of...</td>\n",
       "      <td>2019.0</td>\n",
       "    </tr>\n",
       "    <tr>\n",
       "      <th>3</th>\n",
       "      <td>the number of objections filed on the draft of...</td>\n",
       "      <td>2019.0</td>\n",
       "    </tr>\n",
       "    <tr>\n",
       "      <th>4</th>\n",
       "      <td>the year 2019 will be challenging for the odis...</td>\n",
       "      <td>2019.0</td>\n",
       "    </tr>\n",
       "    <tr>\n",
       "      <th>...</th>\n",
       "      <td>...</td>\n",
       "      <td>...</td>\n",
       "    </tr>\n",
       "    <tr>\n",
       "      <th>5290</th>\n",
       "      <td>naga students federation (nsf) on december 31,...</td>\n",
       "      <td>2019.0</td>\n",
       "    </tr>\n",
       "    <tr>\n",
       "      <th>5291</th>\n",
       "      <td>national register of citizens (nrc) officials ...</td>\n",
       "      <td>2019.0</td>\n",
       "    </tr>\n",
       "    <tr>\n",
       "      <th>5292</th>\n",
       "      <td>naxalites [left wing extremists, lwes] set abl...</td>\n",
       "      <td>2019.0</td>\n",
       "    </tr>\n",
       "    <tr>\n",
       "      <th>5293</th>\n",
       "      <td>the northeast today reports that an official s...</td>\n",
       "      <td>2019.0</td>\n",
       "    </tr>\n",
       "    <tr>\n",
       "      <th>5294</th>\n",
       "      <td>the shillong times reports on january 1, that ...</td>\n",
       "      <td>2019.0</td>\n",
       "    </tr>\n",
       "  </tbody>\n",
       "</table>\n",
       "<p>5295 rows × 2 columns</p>\n",
       "</div>"
      ],
      "text/plain": [
       "                                            description    year\n",
       "0     a special police officer (spo), identified as ...  2019.0\n",
       "1     armed forces special powers act (afspa) has be...  2019.0\n",
       "2     on january 1, an ex-united liberation front of...  2019.0\n",
       "3     the number of objections filed on the draft of...  2019.0\n",
       "4     the year 2019 will be challenging for the odis...  2019.0\n",
       "...                                                 ...     ...\n",
       "5290  naga students federation (nsf) on december 31,...  2019.0\n",
       "5291  national register of citizens (nrc) officials ...  2019.0\n",
       "5292  naxalites [left wing extremists, lwes] set abl...  2019.0\n",
       "5293  the northeast today reports that an official s...  2019.0\n",
       "5294  the shillong times reports on january 1, that ...  2019.0\n",
       "\n",
       "[5295 rows x 2 columns]"
      ]
     },
     "execution_count": 66,
     "metadata": {},
     "output_type": "execute_result"
    }
   ],
   "source": [
    "# cleaning data\n",
    "satp['description'] = satp['description'].str.lower()\n",
    "satp = satp.drop_duplicates().reset_index(drop=True)\n",
    "satp"
   ]
  },
  {
   "cell_type": "code",
   "execution_count": 67,
   "metadata": {},
   "outputs": [
    {
     "data": {
      "text/plain": [
       "'a special police officer (spo), identified as sameer ahmad was killed by suspected militants at hajan in pulwama district on january 1 evening, reports daily excelsior. sources said that suspected militants fired at sameer ahmad. the injured was immediately taken to a hospital where he was declared as brought dead, sources said. they said the militants managed to escape under the cover of darkness. security forces were rushed and a search operation was launched to nab the attackers, they added'"
      ]
     },
     "execution_count": 67,
     "metadata": {},
     "output_type": "execute_result"
    }
   ],
   "source": [
    "satp['description'][0]"
   ]
  },
  {
   "cell_type": "code",
   "execution_count": 68,
   "metadata": {},
   "outputs": [
    {
     "data": {
      "text/plain": [
       "'special police officer spo identified sameer ahmad killed suspected militant hajan pulwama district january 1 evening report daily excelsior. source said suspected militant fired sameer ahmad. injured immediately taken hospital declared brought dead source said. said militant managed escape cover darkness. security force rushed search operation launched nab attacker added'"
      ]
     },
     "execution_count": 68,
     "metadata": {},
     "output_type": "execute_result"
    }
   ],
   "source": [
    "data = []\n",
    "wl = WordNetLemmatizer()\n",
    "for i in range(len(satp)):\n",
    "    # removes unnecessary characters\n",
    "    row = re.sub('[^a-zA-Z0-9. ]', '', satp['description'][i])\n",
    "    # tokenization\n",
    "    row = row.split()\n",
    "    # lemmatization and stop words removal\n",
    "    row = [wl.lemmatize(word) for word in row if not word in set(stopwords.words('english'))]\n",
    "    \n",
    "    \n",
    "    data.append(' '.join(row))\n",
    "\n",
    "\n",
    "satp['description'] = data\n",
    "satp['description'][0]"
   ]
  },
  {
   "cell_type": "code",
   "execution_count": 69,
   "metadata": {},
   "outputs": [
    {
     "data": {
      "text/plain": [
       "count    5295.000000\n",
       "mean      457.963551\n",
       "std       239.880082\n",
       "min        43.000000\n",
       "25%       279.000000\n",
       "50%       420.000000\n",
       "75%       584.000000\n",
       "max      1949.000000\n",
       "Name: length, dtype: float64"
      ]
     },
     "execution_count": 69,
     "metadata": {},
     "output_type": "execute_result"
    }
   ],
   "source": [
    "satp['length'] = satp['description'].apply(len)\n",
    "satp['length'].describe()"
   ]
  },
  {
   "cell_type": "code",
   "execution_count": 70,
   "metadata": {},
   "outputs": [
    {
     "data": {
      "text/html": [
       "<div>\n",
       "<style scoped>\n",
       "    .dataframe tbody tr th:only-of-type {\n",
       "        vertical-align: middle;\n",
       "    }\n",
       "\n",
       "    .dataframe tbody tr th {\n",
       "        vertical-align: top;\n",
       "    }\n",
       "\n",
       "    .dataframe thead th {\n",
       "        text-align: right;\n",
       "    }\n",
       "</style>\n",
       "<table border=\"1\" class=\"dataframe\">\n",
       "  <thead>\n",
       "    <tr style=\"text-align: right;\">\n",
       "      <th></th>\n",
       "      <th>description</th>\n",
       "      <th>year</th>\n",
       "      <th>length</th>\n",
       "    </tr>\n",
       "  </thead>\n",
       "  <tbody>\n",
       "    <tr>\n",
       "      <th>0</th>\n",
       "      <td>special police officer spo identified sameer a...</td>\n",
       "      <td>2019.0</td>\n",
       "      <td>374</td>\n",
       "    </tr>\n",
       "    <tr>\n",
       "      <th>1</th>\n",
       "      <td>armed force special power act afspa extended s...</td>\n",
       "      <td>2019.0</td>\n",
       "      <td>489</td>\n",
       "    </tr>\n",
       "    <tr>\n",
       "      <th>2</th>\n",
       "      <td>january 1 exunited liberation front asom ulfa ...</td>\n",
       "      <td>2019.0</td>\n",
       "      <td>418</td>\n",
       "    </tr>\n",
       "    <tr>\n",
       "      <th>3</th>\n",
       "      <td>number objection filed draft national register...</td>\n",
       "      <td>2019.0</td>\n",
       "      <td>453</td>\n",
       "    </tr>\n",
       "    <tr>\n",
       "      <th>4</th>\n",
       "      <td>year 2019 challenging odisha police many impor...</td>\n",
       "      <td>2019.0</td>\n",
       "      <td>340</td>\n",
       "    </tr>\n",
       "    <tr>\n",
       "      <th>...</th>\n",
       "      <td>...</td>\n",
       "      <td>...</td>\n",
       "      <td>...</td>\n",
       "    </tr>\n",
       "    <tr>\n",
       "      <th>5290</th>\n",
       "      <td>naga student federation nsf december 31 condem...</td>\n",
       "      <td>2019.0</td>\n",
       "      <td>382</td>\n",
       "    </tr>\n",
       "    <tr>\n",
       "      <th>5291</th>\n",
       "      <td>national register citizen nrc official assam p...</td>\n",
       "      <td>2019.0</td>\n",
       "      <td>586</td>\n",
       "    </tr>\n",
       "    <tr>\n",
       "      <th>5292</th>\n",
       "      <td>naxalites left wing extremist lwes set ablaze ...</td>\n",
       "      <td>2019.0</td>\n",
       "      <td>492</td>\n",
       "    </tr>\n",
       "    <tr>\n",
       "      <th>5293</th>\n",
       "      <td>northeast today report official stated decembe...</td>\n",
       "      <td>2019.0</td>\n",
       "      <td>367</td>\n",
       "    </tr>\n",
       "    <tr>\n",
       "      <th>5294</th>\n",
       "      <td>shillong time report january 1 according intel...</td>\n",
       "      <td>2019.0</td>\n",
       "      <td>426</td>\n",
       "    </tr>\n",
       "  </tbody>\n",
       "</table>\n",
       "<p>5295 rows × 3 columns</p>\n",
       "</div>"
      ],
      "text/plain": [
       "                                            description    year  length\n",
       "0     special police officer spo identified sameer a...  2019.0     374\n",
       "1     armed force special power act afspa extended s...  2019.0     489\n",
       "2     january 1 exunited liberation front asom ulfa ...  2019.0     418\n",
       "3     number objection filed draft national register...  2019.0     453\n",
       "4     year 2019 challenging odisha police many impor...  2019.0     340\n",
       "...                                                 ...     ...     ...\n",
       "5290  naga student federation nsf december 31 condem...  2019.0     382\n",
       "5291  national register citizen nrc official assam p...  2019.0     586\n",
       "5292  naxalites left wing extremist lwes set ablaze ...  2019.0     492\n",
       "5293  northeast today report official stated decembe...  2019.0     367\n",
       "5294  shillong time report january 1 according intel...  2019.0     426\n",
       "\n",
       "[5295 rows x 3 columns]"
      ]
     },
     "execution_count": 70,
     "metadata": {},
     "output_type": "execute_result"
    }
   ],
   "source": [
    "satp"
   ]
  },
  {
   "cell_type": "code",
   "execution_count": null,
   "metadata": {},
   "outputs": [],
   "source": []
  }
 ],
 "metadata": {
  "kernelspec": {
   "display_name": "Python 3",
   "language": "python",
   "name": "python3"
  },
  "language_info": {
   "codemirror_mode": {
    "name": "ipython",
    "version": 3
   },
   "file_extension": ".py",
   "mimetype": "text/x-python",
   "name": "python",
   "nbconvert_exporter": "python",
   "pygments_lexer": "ipython3",
   "version": "3.11.5"
  },
  "orig_nbformat": 4
 },
 "nbformat": 4,
 "nbformat_minor": 2
}
