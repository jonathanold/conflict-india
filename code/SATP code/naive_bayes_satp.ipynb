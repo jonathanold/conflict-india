{
 "cells": [
  {
   "cell_type": "code",
   "execution_count": 95,
   "metadata": {},
   "outputs": [
    {
     "name": "stderr",
     "output_type": "stream",
     "text": [
      "[nltk_data] Downloading package stopwords to\n",
      "[nltk_data]     /Users/christinefang/nltk_data...\n",
      "[nltk_data]   Package stopwords is already up-to-date!\n",
      "[nltk_data] Downloading package wordnet to\n",
      "[nltk_data]     /Users/christinefang/nltk_data...\n",
      "[nltk_data]   Package wordnet is already up-to-date!\n"
     ]
    }
   ],
   "source": [
    "import pandas as pd\n",
    "import numpy as np\n",
    "from sklearn.naive_bayes import MultinomialNB\n",
    "from sklearn.naive_bayes import ComplementNB\n",
    "from sklearn.feature_extraction import text\n",
    "import nltk\n",
    "import re\n",
    "import math\n",
    "from nltk import pos_tag, word_tokenize\n",
    "from nltk.corpus import stopwords\n",
    "from nltk.stem import WordNetLemmatizer\n",
    "nltk.download('stopwords')\n",
    "nltk.download('wordnet')\n",
    "import seaborn as sns\n",
    "import matplotlib.pyplot as plt\n",
    "from sklearn.model_selection import KFold\n",
    "from sklearn.metrics import balanced_accuracy_score, accuracy_score, precision_score, recall_score, confusion_matrix\n",
    "\n",
    "# Supress warnings\n",
    "\"\"\"\n",
    "def warn(*args, **kwargs):\n",
    "    pass\n",
    "import warnings\n",
    "warnings.warn = warn\n",
    "\"\"\""
   ]
  },
  {
   "cell_type": "code",
   "execution_count": 97,
   "metadata": {},
   "outputs": [
    {
     "data": {
      "text/html": [
       "<div>\n",
       "<style scoped>\n",
       "    .dataframe tbody tr th:only-of-type {\n",
       "        vertical-align: middle;\n",
       "    }\n",
       "\n",
       "    .dataframe tbody tr th {\n",
       "        vertical-align: top;\n",
       "    }\n",
       "\n",
       "    .dataframe thead th {\n",
       "        text-align: right;\n",
       "    }\n",
       "</style>\n",
       "<table border=\"1\" class=\"dataframe\">\n",
       "  <thead>\n",
       "    <tr style=\"text-align: right;\">\n",
       "      <th></th>\n",
       "      <th>description</th>\n",
       "      <th>relevant_event</th>\n",
       "      <th>internal_conflict</th>\n",
       "      <th>multiple_events</th>\n",
       "      <th>naxalite_maoist</th>\n",
       "    </tr>\n",
       "  </thead>\n",
       "  <tbody>\n",
       "    <tr>\n",
       "      <th>0</th>\n",
       "      <td>Nagaland Post reports that a National Socialis...</td>\n",
       "      <td>1.0</td>\n",
       "      <td>1.0</td>\n",
       "      <td>0.0</td>\n",
       "      <td>0.0</td>\n",
       "    </tr>\n",
       "    <tr>\n",
       "      <th>1</th>\n",
       "      <td>On February 22, Minister of State for Home, S....</td>\n",
       "      <td>0.0</td>\n",
       "      <td>0.0</td>\n",
       "      <td>0.0</td>\n",
       "      <td>0.0</td>\n",
       "    </tr>\n",
       "    <tr>\n",
       "      <th>2</th>\n",
       "      <td>Kanglaonline reports on June 21 that a militan...</td>\n",
       "      <td>1.0</td>\n",
       "      <td>1.0</td>\n",
       "      <td>0.0</td>\n",
       "      <td>0.0</td>\n",
       "    </tr>\n",
       "    <tr>\n",
       "      <th>3</th>\n",
       "      <td>Two security personnel were seriously injured ...</td>\n",
       "      <td>1.0</td>\n",
       "      <td>1.0</td>\n",
       "      <td>0.0</td>\n",
       "      <td>0.0</td>\n",
       "    </tr>\n",
       "    <tr>\n",
       "      <th>4</th>\n",
       "      <td>The Union Ministry of Home Affairs (UMHA) has ...</td>\n",
       "      <td>1.0</td>\n",
       "      <td>1.0</td>\n",
       "      <td>0.0</td>\n",
       "      <td>1.0</td>\n",
       "    </tr>\n",
       "    <tr>\n",
       "      <th>5</th>\n",
       "      <td>A woman Communist Party of India-Maoist (CPI-M...</td>\n",
       "      <td>1.0</td>\n",
       "      <td>1.0</td>\n",
       "      <td>0.0</td>\n",
       "      <td>1.0</td>\n",
       "    </tr>\n",
       "    <tr>\n",
       "      <th>6</th>\n",
       "      <td>Militants lobbed a hand grenade targeting comp...</td>\n",
       "      <td>1.0</td>\n",
       "      <td>1.0</td>\n",
       "      <td>0.0</td>\n",
       "      <td>0.0</td>\n",
       "    </tr>\n",
       "    <tr>\n",
       "      <th>7</th>\n",
       "      <td>Students under Kangleipak Students' Associatio...</td>\n",
       "      <td>1.0</td>\n",
       "      <td>1.0</td>\n",
       "      <td>0.0</td>\n",
       "      <td>0.0</td>\n",
       "    </tr>\n",
       "    <tr>\n",
       "      <th>8</th>\n",
       "      <td>On May 5, an IED blast was reported in front o...</td>\n",
       "      <td>1.0</td>\n",
       "      <td>1.0</td>\n",
       "      <td>0.0</td>\n",
       "      <td>0.0</td>\n",
       "    </tr>\n",
       "    <tr>\n",
       "      <th>9</th>\n",
       "      <td>11 civilians were injured as unidentified terr...</td>\n",
       "      <td>1.0</td>\n",
       "      <td>1.0</td>\n",
       "      <td>0.0</td>\n",
       "      <td>0.0</td>\n",
       "    </tr>\n",
       "  </tbody>\n",
       "</table>\n",
       "</div>"
      ],
      "text/plain": [
       "                                         description  relevant_event  \\\n",
       "0  Nagaland Post reports that a National Socialis...             1.0   \n",
       "1  On February 22, Minister of State for Home, S....             0.0   \n",
       "2  Kanglaonline reports on June 21 that a militan...             1.0   \n",
       "3  Two security personnel were seriously injured ...             1.0   \n",
       "4  The Union Ministry of Home Affairs (UMHA) has ...             1.0   \n",
       "5  A woman Communist Party of India-Maoist (CPI-M...             1.0   \n",
       "6  Militants lobbed a hand grenade targeting comp...             1.0   \n",
       "7  Students under Kangleipak Students' Associatio...             1.0   \n",
       "8  On May 5, an IED blast was reported in front o...             1.0   \n",
       "9  11 civilians were injured as unidentified terr...             1.0   \n",
       "\n",
       "   internal_conflict  multiple_events  naxalite_maoist  \n",
       "0                1.0              0.0              0.0  \n",
       "1                0.0              0.0              0.0  \n",
       "2                1.0              0.0              0.0  \n",
       "3                1.0              0.0              0.0  \n",
       "4                1.0              0.0              1.0  \n",
       "5                1.0              0.0              1.0  \n",
       "6                1.0              0.0              0.0  \n",
       "7                1.0              0.0              0.0  \n",
       "8                1.0              0.0              0.0  \n",
       "9                1.0              0.0              0.0  "
      ]
     },
     "execution_count": 97,
     "metadata": {},
     "output_type": "execute_result"
    }
   ],
   "source": [
    "df = pd.read_csv('../../../sample_events.csv')\n",
    "df = df[[\"description\", \"relevant_event\", \"internal_conflict\", \"multiple_events\", \"naxalite_maoist\"]]\n",
    "\n",
    "df = df.drop_duplicates(subset=[\"description\"]).dropna().reset_index(drop=True)\n",
    "df[\"relevant_event\"] = df[\"relevant_event\"].replace(r'[2-9]{1,4}', np.nan, regex=True).fillna(0)\n",
    "df[\"internal_conflict\"] = df[\"internal_conflict\"].replace(r'[2-9]{1,4}', np.nan, regex=True).fillna(0)\n",
    "df[\"multiple_events\"] = df[\"multiple_events\"].replace(r'[2-9]{1,4}', np.nan, regex=True).fillna(0)\n",
    "df[\"naxalite_maoist\"] = df[\"naxalite_maoist\"].replace(r'[2-9]{1,4}', np.nan, regex=True).fillna(0)\n",
    "\n",
    "df.index = range(len(df))\n",
    "df.head(10)"
   ]
  },
  {
   "cell_type": "markdown",
   "metadata": {},
   "source": [
    "# Cleaning and Tokenizing"
   ]
  },
  {
   "cell_type": "code",
   "execution_count": 98,
   "metadata": {},
   "outputs": [],
   "source": [
    "data_stripped = []\n",
    "data_tokenized_words = []\n",
    "\n",
    "wl = WordNetLemmatizer()\n",
    "\n",
    "for i in range(len(df)):\n",
    "    # removes unnecessary characters\n",
    "    row = re.sub('[^a-zA-Z0-9. ]', '', df['description'][i])\n",
    "    row = row.lower()\n",
    "    # tokenization\n",
    "    row = row.split()\n",
    "    # lemmatization and stop words removal\n",
    "    row = [wl.lemmatize(word) for word in row if not word in set(stopwords.words('english'))]\n",
    "    row2 = re.sub('[^a-zA-Z0-9 ]', '', ' '.join(row))\n",
    "    row2 = row2.split(' ')\n",
    "    row3 = ' '.join(row).split('.')\n",
    "    \n",
    "    \n",
    "    data_stripped.append(' '.join(row))\n",
    "    data_tokenized_words.append(row2)\n",
    "\n",
    "\n",
    "df['stripped_description'] = data_stripped\n",
    "df['word_tokenized_description'] = data_tokenized_words"
   ]
  },
  {
   "cell_type": "code",
   "execution_count": 100,
   "metadata": {},
   "outputs": [],
   "source": [
    "# 5-Fold cross-validation\n",
    "def cross_validation(Y, accuracy_metric, a):\n",
    "    # Split dataset into folds\n",
    "    kf = KFold(n_splits=5, shuffle=True)\n",
    "    accuracy = []\n",
    "\n",
    "    nb = MultinomialNB(alpha = a)\n",
    "    vectorizer = text.TfidfVectorizer(analyzer=lambda x: x,)\n",
    "    X = vectorizer.fit_transform(df[\"word_tokenized_description\"])\n",
    "\n",
    "    # Cross-validation\n",
    "    for train_idx, valid_idx in kf.split(X):\n",
    "        X_train, X_valid = X[train_idx, :], X[valid_idx, :]\n",
    "        Y_train, Y_valid = Y[train_idx], Y[valid_idx]\n",
    "        nb.fit(X_train,Y_train)\n",
    "        predictions = nb.predict(X_valid)\n",
    "        accuracy.append(accuracy_metric(predictions, Y_valid))\n",
    "    return np.mean(accuracy)"
   ]
  },
  {
   "cell_type": "code",
   "execution_count": 101,
   "metadata": {},
   "outputs": [
    {
     "data": {
      "text/plain": [
       "\" def accuracies(Y, alpha):\\n        accuracy_cv = pd.DataFrame(columns = ['folds', 'validation_acc', 'balanced_acc', 'precision', 'recall'])\\n\\n        metrics = [accuracy_score, balanced_accuracy_score, precision_score_zero_div, recall_score_zero_div]\\n\\n        for folds in range(5,21,5):\\n                accuracies = [folds]\\n                for i in range(len(metrics)):\\n                        mean_accuracy = cross_validation(folds, Y, metrics[i], alpha)\\n                        accuracies.append(mean_accuracy)\\n                accuracy_cv = pd.concat([pd.DataFrame([accuracies], columns=accuracy_cv.columns), accuracy_cv], ignore_index=True)\\n\\n        accuracy_cv['folds'] = accuracy_cv['folds'].astype('int')\\n        accuracy_cv.set_index('folds')\\n        return accuracy_cv\\n\""
      ]
     },
     "execution_count": 101,
     "metadata": {},
     "output_type": "execute_result"
    }
   ],
   "source": [
    "def precision_score_zero_div(predictions, Y_valid):\n",
    "    return precision_score(predictions, Y_valid, zero_division=np.nan)\n",
    "\n",
    "def recall_score_zero_div(predictions, Y_valid):\n",
    "    return recall_score(predictions, Y_valid, zero_division=np.nan)\n",
    "\n",
    "\"\"\" def accuracies(Y, alpha):\n",
    "        accuracy_cv = pd.DataFrame(columns = ['folds', 'validation_acc', 'balanced_acc', 'precision', 'recall'])\n",
    "\n",
    "        metrics = [accuracy_score, balanced_accuracy_score, precision_score_zero_div, recall_score_zero_div]\n",
    "\n",
    "        for folds in range(5,21,5):\n",
    "                accuracies = [folds]\n",
    "                for i in range(len(metrics)):\n",
    "                        mean_accuracy = cross_validation(folds, Y, metrics[i], alpha)\n",
    "                        accuracies.append(mean_accuracy)\n",
    "                accuracy_cv = pd.concat([pd.DataFrame([accuracies], columns=accuracy_cv.columns), accuracy_cv], ignore_index=True)\n",
    "\n",
    "        accuracy_cv['folds'] = accuracy_cv['folds'].astype('int')\n",
    "        accuracy_cv.set_index('folds')\n",
    "        return accuracy_cv\n",
    "\"\"\""
   ]
  },
  {
   "cell_type": "markdown",
   "metadata": {},
   "source": [
    "# Hyperparameter (alpha) tuning"
   ]
  },
  {
   "cell_type": "code",
   "execution_count": 102,
   "metadata": {},
   "outputs": [],
   "source": [
    "def alpha_accuracies(col):\n",
    "    accuracy = []\n",
    "    balanced= []\n",
    "    recall = []\n",
    "    precision =  []\n",
    "\n",
    "    metrics = [accuracy_score, balanced_accuracy_score, precision_score_zero_div, recall_score_zero_div]\n",
    "\n",
    "    for i in [0.00001, 0.0001, 0.001, 0.01, 0.1, 1, 10]:\n",
    "        accuracies = []\n",
    "        for j in range(len(metrics)):\n",
    "            accuracies.append(cross_validation(col, metrics[j], i))\n",
    "        accuracy.append(accuracies[0])\n",
    "        balanced.append(accuracies[1])\n",
    "        recall.append(accuracies[2])\n",
    "        precision.append(accuracies[3])\n",
    "\n",
    "    data = {'alpha_param': [0.00001, 0.0001, 0.001, 0.01, 0.1, 1, 10], \n",
    "            'accuracy_score': accuracy,\n",
    "            'balanced_accuracy': balanced,\n",
    "            'precision': precision,\n",
    "            'recall': recall} \n",
    "\n",
    "    return data\n",
    "\n",
    "def confusion_matrix_alpha(alpha_param, y, x):\n",
    "    nb = MultinomialNB(alpha = alpha_param)\n",
    "    idx = math.ceil(x.shape[0]*(4/5))\n",
    "    x_train, x_valid = x[:idx], x[idx:]\n",
    "    y_train, y_valid = y[:idx], y[idx:]\n",
    "    nb.fit(x_train,y_train)\n",
    "    pred = nb.predict(x_valid)\n",
    "\n",
    "    cm = confusion_matrix(y_valid, pred)\n",
    "    plt.figure(figsize=(4, 3))\n",
    "    sns.heatmap(cm, annot=True, fmt = 'd', cmap = 'Blues', annot_kws = {'size': 16})\n",
    "    plt.xlabel('Predicted')\n",
    "    plt.ylabel('Actual')\n",
    "    plt.title(f'Alpha = {alpha_param}')\n",
    "\n",
    "\n",
    "\n",
    "vectorizer = text.TfidfVectorizer(analyzer=lambda x: x,)\n",
    "x = vectorizer.fit_transform(df[\"word_tokenized_description\"])"
   ]
  },
  {
   "cell_type": "markdown",
   "metadata": {},
   "source": [
    "## Relevant Event"
   ]
  },
  {
   "cell_type": "code",
   "execution_count": 103,
   "metadata": {},
   "outputs": [
    {
     "data": {
      "text/html": [
       "<div>\n",
       "<style scoped>\n",
       "    .dataframe tbody tr th:only-of-type {\n",
       "        vertical-align: middle;\n",
       "    }\n",
       "\n",
       "    .dataframe tbody tr th {\n",
       "        vertical-align: top;\n",
       "    }\n",
       "\n",
       "    .dataframe thead th {\n",
       "        text-align: right;\n",
       "    }\n",
       "</style>\n",
       "<table border=\"1\" class=\"dataframe\">\n",
       "  <thead>\n",
       "    <tr style=\"text-align: right;\">\n",
       "      <th></th>\n",
       "      <th>alpha_param</th>\n",
       "      <th>accuracy_score</th>\n",
       "      <th>balanced_accuracy</th>\n",
       "      <th>precision</th>\n",
       "      <th>recall</th>\n",
       "    </tr>\n",
       "  </thead>\n",
       "  <tbody>\n",
       "    <tr>\n",
       "      <th>0</th>\n",
       "      <td>0.00001</td>\n",
       "      <td>0.907527</td>\n",
       "      <td>0.775994</td>\n",
       "      <td>0.925031</td>\n",
       "      <td>0.990524</td>\n",
       "    </tr>\n",
       "    <tr>\n",
       "      <th>1</th>\n",
       "      <td>0.00010</td>\n",
       "      <td>0.905376</td>\n",
       "      <td>0.686537</td>\n",
       "      <td>0.934342</td>\n",
       "      <td>0.985740</td>\n",
       "    </tr>\n",
       "    <tr>\n",
       "      <th>2</th>\n",
       "      <td>0.00100</td>\n",
       "      <td>0.896774</td>\n",
       "      <td>0.662937</td>\n",
       "      <td>0.941936</td>\n",
       "      <td>0.950741</td>\n",
       "    </tr>\n",
       "    <tr>\n",
       "      <th>3</th>\n",
       "      <td>0.01000</td>\n",
       "      <td>0.860215</td>\n",
       "      <td>0.678017</td>\n",
       "      <td>0.961627</td>\n",
       "      <td>0.891399</td>\n",
       "    </tr>\n",
       "    <tr>\n",
       "      <th>4</th>\n",
       "      <td>0.10000</td>\n",
       "      <td>0.909677</td>\n",
       "      <td>0.743383</td>\n",
       "      <td>0.933868</td>\n",
       "      <td>0.974011</td>\n",
       "    </tr>\n",
       "    <tr>\n",
       "      <th>5</th>\n",
       "      <td>1.00000</td>\n",
       "      <td>0.913978</td>\n",
       "      <td>0.913978</td>\n",
       "      <td>0.913978</td>\n",
       "      <td>1.000000</td>\n",
       "    </tr>\n",
       "    <tr>\n",
       "      <th>6</th>\n",
       "      <td>10.00000</td>\n",
       "      <td>0.913978</td>\n",
       "      <td>0.913978</td>\n",
       "      <td>0.913978</td>\n",
       "      <td>1.000000</td>\n",
       "    </tr>\n",
       "  </tbody>\n",
       "</table>\n",
       "</div>"
      ],
      "text/plain": [
       "   alpha_param  accuracy_score  balanced_accuracy  precision    recall\n",
       "0      0.00001        0.907527           0.775994   0.925031  0.990524\n",
       "1      0.00010        0.905376           0.686537   0.934342  0.985740\n",
       "2      0.00100        0.896774           0.662937   0.941936  0.950741\n",
       "3      0.01000        0.860215           0.678017   0.961627  0.891399\n",
       "4      0.10000        0.909677           0.743383   0.933868  0.974011\n",
       "5      1.00000        0.913978           0.913978   0.913978  1.000000\n",
       "6     10.00000        0.913978           0.913978   0.913978  1.000000"
      ]
     },
     "execution_count": 103,
     "metadata": {},
     "output_type": "execute_result"
    }
   ],
   "source": [
    "data = alpha_accuracies(df[\"relevant_event\"])\n",
    "pd.DataFrame(data)"
   ]
  },
  {
   "cell_type": "code",
   "execution_count": 104,
   "metadata": {},
   "outputs": [
    {
     "data": {
      "image/png": "[encoded data removed]",
      "text/plain": [
       "<Figure size 400x300 with 2 Axes>"
      ]
     },
     "metadata": {},
     "output_type": "display_data"
    }
   ],
   "source": [
    "#Confusion matrix for alpha = 0.01\n",
    "confusion_matrix_alpha(0.01, df[\"relevant_event\"], x)"
   ]
  },
  {
   "cell_type": "code",
   "execution_count": 87,
   "metadata": {},
   "outputs": [
    {
     "data": {
      "image/png": "[encoded data removed]",
      "text/plain": [
       "<Figure size 400x300 with 2 Axes>"
      ]
     },
     "metadata": {},
     "output_type": "display_data"
    }
   ],
   "source": [
    "#Confusion matrix for alpha = 0.1\n",
    "confusion_matrix_alpha(0.1, df[\"relevant_event\"], x)"
   ]
  },
  {
   "cell_type": "markdown",
   "metadata": {},
   "source": [
    "## Internal Conflict"
   ]
  },
  {
   "cell_type": "code",
   "execution_count": 105,
   "metadata": {},
   "outputs": [
    {
     "data": {
      "text/html": [
       "<div>\n",
       "<style scoped>\n",
       "    .dataframe tbody tr th:only-of-type {\n",
       "        vertical-align: middle;\n",
       "    }\n",
       "\n",
       "    .dataframe tbody tr th {\n",
       "        vertical-align: top;\n",
       "    }\n",
       "\n",
       "    .dataframe thead th {\n",
       "        text-align: right;\n",
       "    }\n",
       "</style>\n",
       "<table border=\"1\" class=\"dataframe\">\n",
       "  <thead>\n",
       "    <tr style=\"text-align: right;\">\n",
       "      <th></th>\n",
       "      <th>alpha_param</th>\n",
       "      <th>accuracy_score</th>\n",
       "      <th>balanced_accuracy</th>\n",
       "      <th>precision</th>\n",
       "      <th>recall</th>\n",
       "    </tr>\n",
       "  </thead>\n",
       "  <tbody>\n",
       "    <tr>\n",
       "      <th>0</th>\n",
       "      <td>0.00001</td>\n",
       "      <td>0.883871</td>\n",
       "      <td>0.694908</td>\n",
       "      <td>0.900973</td>\n",
       "      <td>0.978623</td>\n",
       "    </tr>\n",
       "    <tr>\n",
       "      <th>1</th>\n",
       "      <td>0.00010</td>\n",
       "      <td>0.870968</td>\n",
       "      <td>0.679129</td>\n",
       "      <td>0.906134</td>\n",
       "      <td>0.968351</td>\n",
       "    </tr>\n",
       "    <tr>\n",
       "      <th>2</th>\n",
       "      <td>0.00100</td>\n",
       "      <td>0.883871</td>\n",
       "      <td>0.692748</td>\n",
       "      <td>0.921606</td>\n",
       "      <td>0.918496</td>\n",
       "    </tr>\n",
       "    <tr>\n",
       "      <th>3</th>\n",
       "      <td>0.01000</td>\n",
       "      <td>0.825806</td>\n",
       "      <td>0.616686</td>\n",
       "      <td>0.925514</td>\n",
       "      <td>0.878553</td>\n",
       "    </tr>\n",
       "    <tr>\n",
       "      <th>4</th>\n",
       "      <td>0.10000</td>\n",
       "      <td>0.883871</td>\n",
       "      <td>0.705665</td>\n",
       "      <td>0.912948</td>\n",
       "      <td>0.958395</td>\n",
       "    </tr>\n",
       "    <tr>\n",
       "      <th>5</th>\n",
       "      <td>1.00000</td>\n",
       "      <td>0.883871</td>\n",
       "      <td>0.883871</td>\n",
       "      <td>0.883871</td>\n",
       "      <td>1.000000</td>\n",
       "    </tr>\n",
       "    <tr>\n",
       "      <th>6</th>\n",
       "      <td>10.00000</td>\n",
       "      <td>0.883871</td>\n",
       "      <td>0.883871</td>\n",
       "      <td>0.883871</td>\n",
       "      <td>1.000000</td>\n",
       "    </tr>\n",
       "  </tbody>\n",
       "</table>\n",
       "</div>"
      ],
      "text/plain": [
       "   alpha_param  accuracy_score  balanced_accuracy  precision    recall\n",
       "0      0.00001        0.883871           0.694908   0.900973  0.978623\n",
       "1      0.00010        0.870968           0.679129   0.906134  0.968351\n",
       "2      0.00100        0.883871           0.692748   0.921606  0.918496\n",
       "3      0.01000        0.825806           0.616686   0.925514  0.878553\n",
       "4      0.10000        0.883871           0.705665   0.912948  0.958395\n",
       "5      1.00000        0.883871           0.883871   0.883871  1.000000\n",
       "6     10.00000        0.883871           0.883871   0.883871  1.000000"
      ]
     },
     "execution_count": 105,
     "metadata": {},
     "output_type": "execute_result"
    }
   ],
   "source": [
    "data = alpha_accuracies(df[\"internal_conflict\"])\n",
    "pd.DataFrame(data)"
   ]
  },
  {
   "cell_type": "code",
   "execution_count": 106,
   "metadata": {},
   "outputs": [
    {
     "data": {
      "image/png": "[encoded data removed]",
      "text/plain": [
       "<Figure size 400x300 with 2 Axes>"
      ]
     },
     "metadata": {},
     "output_type": "display_data"
    }
   ],
   "source": [
    "confusion_matrix_alpha(0.1, df[\"internal_conflict\"], x)"
   ]
  },
  {
   "cell_type": "code",
   "execution_count": 107,
   "metadata": {},
   "outputs": [
    {
     "data": {
      "image/png": "[encoded data removed]",
      "text/plain": [
       "<Figure size 400x300 with 2 Axes>"
      ]
     },
     "metadata": {},
     "output_type": "display_data"
    }
   ],
   "source": [
    "confusion_matrix_alpha(0.01, df[\"internal_conflict\"], x)"
   ]
  },
  {
   "cell_type": "markdown",
   "metadata": {},
   "source": [
    "## Multiple Events"
   ]
  },
  {
   "cell_type": "code",
   "execution_count": 112,
   "metadata": {},
   "outputs": [
    {
     "data": {
      "text/html": [
       "<div>\n",
       "<style scoped>\n",
       "    .dataframe tbody tr th:only-of-type {\n",
       "        vertical-align: middle;\n",
       "    }\n",
       "\n",
       "    .dataframe tbody tr th {\n",
       "        vertical-align: top;\n",
       "    }\n",
       "\n",
       "    .dataframe thead th {\n",
       "        text-align: right;\n",
       "    }\n",
       "</style>\n",
       "<table border=\"1\" class=\"dataframe\">\n",
       "  <thead>\n",
       "    <tr style=\"text-align: right;\">\n",
       "      <th></th>\n",
       "      <th>alpha_param</th>\n",
       "      <th>accuracy_score</th>\n",
       "      <th>balanced_accuracy</th>\n",
       "      <th>precision</th>\n",
       "      <th>recall</th>\n",
       "    </tr>\n",
       "  </thead>\n",
       "  <tbody>\n",
       "    <tr>\n",
       "      <th>0</th>\n",
       "      <td>0.00001</td>\n",
       "      <td>0.894624</td>\n",
       "      <td>0.604845</td>\n",
       "      <td>0.133333</td>\n",
       "      <td>0.041667</td>\n",
       "    </tr>\n",
       "    <tr>\n",
       "      <th>1</th>\n",
       "      <td>0.00010</td>\n",
       "      <td>0.877419</td>\n",
       "      <td>0.595661</td>\n",
       "      <td>0.300000</td>\n",
       "      <td>0.134848</td>\n",
       "    </tr>\n",
       "    <tr>\n",
       "      <th>2</th>\n",
       "      <td>0.00100</td>\n",
       "      <td>0.853763</td>\n",
       "      <td>0.607505</td>\n",
       "      <td>0.167879</td>\n",
       "      <td>0.208889</td>\n",
       "    </tr>\n",
       "    <tr>\n",
       "      <th>3</th>\n",
       "      <td>0.01000</td>\n",
       "      <td>0.748387</td>\n",
       "      <td>0.540026</td>\n",
       "      <td>0.199385</td>\n",
       "      <td>0.395556</td>\n",
       "    </tr>\n",
       "    <tr>\n",
       "      <th>4</th>\n",
       "      <td>0.10000</td>\n",
       "      <td>0.877419</td>\n",
       "      <td>0.450412</td>\n",
       "      <td>0.100000</td>\n",
       "      <td>0.000000</td>\n",
       "    </tr>\n",
       "    <tr>\n",
       "      <th>5</th>\n",
       "      <td>1.00000</td>\n",
       "      <td>0.903226</td>\n",
       "      <td>0.903226</td>\n",
       "      <td>NaN</td>\n",
       "      <td>0.000000</td>\n",
       "    </tr>\n",
       "    <tr>\n",
       "      <th>6</th>\n",
       "      <td>10.00000</td>\n",
       "      <td>0.903226</td>\n",
       "      <td>0.903226</td>\n",
       "      <td>NaN</td>\n",
       "      <td>0.000000</td>\n",
       "    </tr>\n",
       "  </tbody>\n",
       "</table>\n",
       "</div>"
      ],
      "text/plain": [
       "   alpha_param  accuracy_score  balanced_accuracy  precision    recall\n",
       "0      0.00001        0.894624           0.604845   0.133333  0.041667\n",
       "1      0.00010        0.877419           0.595661   0.300000  0.134848\n",
       "2      0.00100        0.853763           0.607505   0.167879  0.208889\n",
       "3      0.01000        0.748387           0.540026   0.199385  0.395556\n",
       "4      0.10000        0.877419           0.450412   0.100000  0.000000\n",
       "5      1.00000        0.903226           0.903226        NaN  0.000000\n",
       "6     10.00000        0.903226           0.903226        NaN  0.000000"
      ]
     },
     "execution_count": 112,
     "metadata": {},
     "output_type": "execute_result"
    }
   ],
   "source": [
    "data = alpha_accuracies(df[\"multiple_events\"])\n",
    "pd.DataFrame(data)\n",
    "\n",
    "# Note: NaN means zero-division"
   ]
  },
  {
   "cell_type": "code",
   "execution_count": 113,
   "metadata": {},
   "outputs": [
    {
     "data": {
      "image/png": "[encoded data removed]",
      "text/plain": [
       "<Figure size 400x300 with 2 Axes>"
      ]
     },
     "metadata": {},
     "output_type": "display_data"
    }
   ],
   "source": [
    "confusion_matrix_alpha(0.01, df[\"multiple_events\"], x)"
   ]
  },
  {
   "cell_type": "markdown",
   "metadata": {},
   "source": [
    "## Naxalite Maoist"
   ]
  },
  {
   "cell_type": "code",
   "execution_count": 114,
   "metadata": {},
   "outputs": [
    {
     "data": {
      "text/html": [
       "<div>\n",
       "<style scoped>\n",
       "    .dataframe tbody tr th:only-of-type {\n",
       "        vertical-align: middle;\n",
       "    }\n",
       "\n",
       "    .dataframe tbody tr th {\n",
       "        vertical-align: top;\n",
       "    }\n",
       "\n",
       "    .dataframe thead th {\n",
       "        text-align: right;\n",
       "    }\n",
       "</style>\n",
       "<table border=\"1\" class=\"dataframe\">\n",
       "  <thead>\n",
       "    <tr style=\"text-align: right;\">\n",
       "      <th></th>\n",
       "      <th>alpha_param</th>\n",
       "      <th>accuracy_score</th>\n",
       "      <th>balanced_accuracy</th>\n",
       "      <th>precision</th>\n",
       "      <th>recall</th>\n",
       "    </tr>\n",
       "  </thead>\n",
       "  <tbody>\n",
       "    <tr>\n",
       "      <th>0</th>\n",
       "      <td>0.00001</td>\n",
       "      <td>0.860215</td>\n",
       "      <td>0.879104</td>\n",
       "      <td>0.828913</td>\n",
       "      <td>0.631356</td>\n",
       "    </tr>\n",
       "    <tr>\n",
       "      <th>1</th>\n",
       "      <td>0.00010</td>\n",
       "      <td>0.879570</td>\n",
       "      <td>0.860293</td>\n",
       "      <td>0.829220</td>\n",
       "      <td>0.707839</td>\n",
       "    </tr>\n",
       "    <tr>\n",
       "      <th>2</th>\n",
       "      <td>0.00100</td>\n",
       "      <td>0.888172</td>\n",
       "      <td>0.858482</td>\n",
       "      <td>0.828775</td>\n",
       "      <td>0.782749</td>\n",
       "    </tr>\n",
       "    <tr>\n",
       "      <th>3</th>\n",
       "      <td>0.01000</td>\n",
       "      <td>0.888172</td>\n",
       "      <td>0.860272</td>\n",
       "      <td>0.755894</td>\n",
       "      <td>0.851259</td>\n",
       "    </tr>\n",
       "    <tr>\n",
       "      <th>4</th>\n",
       "      <td>0.10000</td>\n",
       "      <td>0.903226</td>\n",
       "      <td>0.874039</td>\n",
       "      <td>0.825201</td>\n",
       "      <td>0.826639</td>\n",
       "    </tr>\n",
       "    <tr>\n",
       "      <th>5</th>\n",
       "      <td>1.00000</td>\n",
       "      <td>0.750538</td>\n",
       "      <td>0.811850</td>\n",
       "      <td>1.000000</td>\n",
       "      <td>0.138915</td>\n",
       "    </tr>\n",
       "    <tr>\n",
       "      <th>6</th>\n",
       "      <td>10.00000</td>\n",
       "      <td>0.722581</td>\n",
       "      <td>0.722581</td>\n",
       "      <td>NaN</td>\n",
       "      <td>0.000000</td>\n",
       "    </tr>\n",
       "  </tbody>\n",
       "</table>\n",
       "</div>"
      ],
      "text/plain": [
       "   alpha_param  accuracy_score  balanced_accuracy  precision    recall\n",
       "0      0.00001        0.860215           0.879104   0.828913  0.631356\n",
       "1      0.00010        0.879570           0.860293   0.829220  0.707839\n",
       "2      0.00100        0.888172           0.858482   0.828775  0.782749\n",
       "3      0.01000        0.888172           0.860272   0.755894  0.851259\n",
       "4      0.10000        0.903226           0.874039   0.825201  0.826639\n",
       "5      1.00000        0.750538           0.811850   1.000000  0.138915\n",
       "6     10.00000        0.722581           0.722581        NaN  0.000000"
      ]
     },
     "execution_count": 114,
     "metadata": {},
     "output_type": "execute_result"
    }
   ],
   "source": [
    "data = alpha_accuracies(df[\"naxalite_maoist\"])\n",
    "pd.DataFrame(data)"
   ]
  },
  {
   "cell_type": "code",
   "execution_count": 115,
   "metadata": {},
   "outputs": [
    {
     "data": {
      "image/png": "[encoded data removed]",
      "text/plain": [
       "<Figure size 400x300 with 2 Axes>"
      ]
     },
     "metadata": {},
     "output_type": "display_data"
    }
   ],
   "source": [
    "confusion_matrix_alpha(0.01, df[\"naxalite_maoist\"], x)"
   ]
  }
 ],
 "metadata": {
  "kernelspec": {
   "display_name": "Python 3.9.18 64-bit ('.conda')",
   "language": "python",
   "name": "python3"
  },
  "language_info": {
   "codemirror_mode": {
    "name": "ipython",
    "version": 3
   },
   "file_extension": ".py",
   "mimetype": "text/x-python",
   "name": "python",
   "nbconvert_exporter": "python",
   "pygments_lexer": "ipython3",
   "version": "3.9.18"
  },
  "orig_nbformat": 4,
  "vscode": {
   "interpreter": {
    "hash": "991de53ec26e165e5d99b88eaca59536b661912dfa1f1856a6e55703c4d41bc7"
   }
  }
 },
 "nbformat": 4,
 "nbformat_minor": 2
}
