{
 "cells": [
  {
   "cell_type": "code",
   "execution_count": 1,
   "id": "14166cf5",
   "metadata": {},
   "outputs": [
    {
     "name": "stdout",
     "output_type": "stream",
     "text": [
      "Requirement already satisfied: tweepy in /opt/conda/lib/python3.9/site-packages (3.10.0)\r\n",
      "Requirement already satisfied: requests-oauthlib>=0.7.0 in /opt/conda/lib/python3.9/site-packages (from tweepy) (1.3.1)\r\n",
      "Requirement already satisfied: six>=1.10.0 in /opt/conda/lib/python3.9/site-packages (from tweepy) (1.16.0)\r\n",
      "Requirement already satisfied: requests[socks]>=2.11.1 in /opt/conda/lib/python3.9/site-packages (from tweepy) (2.31.0)\r\n",
      "Requirement already satisfied: oauthlib>=3.0.0 in /opt/conda/lib/python3.9/site-packages (from requests-oauthlib>=0.7.0->tweepy) (3.2.2)\r\n",
      "Requirement already satisfied: urllib3<3,>=1.21.1 in /opt/conda/lib/python3.9/site-packages (from requests[socks]>=2.11.1->tweepy) (1.26.7)\r\n",
      "Requirement already satisfied: charset-normalizer<4,>=2 in /opt/conda/lib/python3.9/site-packages (from requests[socks]>=2.11.1->tweepy) (2.0.0)\r\n",
      "Requirement already satisfied: idna<4,>=2.5 in /opt/conda/lib/python3.9/site-packages (from requests[socks]>=2.11.1->tweepy) (3.1)\r\n",
      "Requirement already satisfied: certifi>=2017.4.17 in /opt/conda/lib/python3.9/site-packages (from requests[socks]>=2.11.1->tweepy) (2021.10.8)\r\n",
      "Requirement already satisfied: PySocks!=1.5.7,>=1.5.6 in /opt/conda/lib/python3.9/site-packages (from requests[socks]>=2.11.1->tweepy) (1.7.1)\r\n"
     ]
    }
   ],
   "source": [
    "!pip install tweepy"
   ]
  },
  {
   "cell_type": "code",
   "execution_count": 33,
   "id": "70a4a2d0",
   "metadata": {},
   "outputs": [],
   "source": [
    "import tweepy as tw\n",
    "import snscrape.modules.twitter as sntwitter"
   ]
  },
  {
   "cell_type": "code",
   "execution_count": 44,
   "id": "ad7c50d6",
   "metadata": {},
   "outputs": [],
   "source": [
    "accesstoken = \"395275598-rJk1Ku9T5VMDZPDa4clshTZiO4kDEoVf20NJ3bDY\"\n",
    "accesstokensecret = \"eqPTgodkkIHP0gQl2QenWEiIkw3XKjZD5RRivYj8vuThu\"\n",
    "apikey = \"2VKxlYCNbGM4RC1IPvEmebdvC\"\n",
    "apisecretkey = \"PfHOq8qP14eDTno9INLAivg9HQq9xW9grVp1ZTA3SWj0EAwCsZ\""
   ]
  },
  {
   "cell_type": "code",
   "execution_count": 35,
   "id": "29fd1966",
   "metadata": {},
   "outputs": [],
   "source": [
    "auth = tw.OAuthHandler(apikey, apisecretkey) \n",
    "auth.set_access_token(accesstoken, accesstokensecret) \n",
    "api = tw.API(auth, wait_on_rate_limit = True)"
   ]
  },
  {
   "cell_type": "code",
   "execution_count": 45,
   "id": "b8f6a7da",
   "metadata": {},
   "outputs": [
    {
     "name": "stdout",
     "output_type": "stream",
     "text": [
      "User ID: 18329263\n",
      "Username: BloodDonorsIn\n",
      "Name: Blood Donors India\n",
      "Description: Focused on matching blood donors with those in need. Mentioned in the Mary Meeker Internet Trends Report. Spread the word, help save lives. We save 8 lives/day.\n",
      "Followers Count: 1216110\n",
      "Friends (Following) Count: 2276\n",
      "Tweets Count: 388134\n"
     ]
    }
   ],
   "source": [
    "twitter_username = \"BloodDonorsIn\"\n",
    "\n",
    "try:\n",
    "    # Use the lookup_user method to get user information\n",
    "    user = api.get_user(screen_name=twitter_username)\n",
    "\n",
    "    # Print user information\n",
    "    print(\"User ID:\", user.id)\n",
    "    print(\"Username:\", user.screen_name)\n",
    "    print(\"Name:\", user.name)\n",
    "    print(\"Description:\", user.description)\n",
    "    print(\"Followers Count:\", user.followers_count)\n",
    "    print(\"Friends (Following) Count:\", user.friends_count)\n",
    "    print(\"Tweets Count:\", user.statuses_count)\n",
    "\n",
    "except tweepy.TweepError as e:\n",
    "    print(\"Error:\", e)"
   ]
  },
  {
   "cell_type": "code",
   "execution_count": 36,
   "id": "eeddc0df",
   "metadata": {},
   "outputs": [
    {
     "name": "stdout",
     "output_type": "stream",
     "text": [
      "Status Failed On, 'API' object has no attribute 'search_tweets'\n"
     ]
    }
   ],
   "source": [
    "# Trying with search_tweets method\n",
    "search_query = \"earthquake\"\n",
    "no_of_tweets = 150\n",
    "\n",
    "\n",
    "try:\n",
    "    tweets = api.search_tweets(q = search_query, count = no_of_tweets)\n",
    "    \n",
    "    attributes_container = [[tweet.user.name, tweet.created_at, tweet.favorite_count, tweet.source,  tweet.text] for tweet in tweets]\n",
    "\n",
    "    columns = [\"User\", \"Date Created\", \"Number of Likes\", \"Source of Tweet\", \"Tweet\"]\n",
    "    tweets_df = pd.DataFrame(attributes_container, columns = columns)\n",
    "    \n",
    "except BaseException as e:\n",
    "    print('Status Failed On,',str(e))"
   ]
  },
  {
   "cell_type": "code",
   "execution_count": 37,
   "id": "eccec851",
   "metadata": {},
   "outputs": [
    {
     "name": "stdout",
     "output_type": "stream",
     "text": [
      "Status Failed On, [{'message': 'You currently have access to a subset of Twitter API v2 endpoints and limited v1.1 endpoints (e.g. media post, oauth) only. If you need access to this endpoint, you may need a different access level. You can learn more here: https://developer.twitter.com/en/portal/product', 'code': 453}]\n"
     ]
    }
   ],
   "source": [
    "# Trying with user_timeline\n",
    "username = \"BloodDonorsIn\"\n",
    "no_of_tweets = 100\n",
    "\n",
    "try:\n",
    "    tweets = api.user_timeline(screen_name = username, count = no_of_tweets)\n",
    "    \n",
    "    attributes_container = [[tweet.created_at, tweet.favorite_count,tweet.source,  tweet.text] for tweet in tweets]\n",
    "\n",
    "    columns = [\"Date Created\", \"Number of Likes\", \"Source of Tweet\", \"Tweet\"]\n",
    "    tweets_df = pd.DataFrame(attributes_container, columns = columns)\n",
    "\n",
    "except BaseException as e:\n",
    "    print('Status Failed On,', str(e))"
   ]
  },
  {
   "cell_type": "code",
   "execution_count": 38,
   "id": "6e1c8060",
   "metadata": {},
   "outputs": [
    {
     "name": "stdout",
     "output_type": "stream",
     "text": [
      "3.10.0\n",
      "Help on package tweepy:\n",
      "\n",
      "NAME\n",
      "    tweepy - Tweepy Twitter API library\n",
      "\n",
      "PACKAGE CONTENTS\n",
      "    api\n",
      "    auth\n",
      "    binder\n",
      "    cache\n",
      "    cursor\n",
      "    error\n",
      "    models\n",
      "    parsers\n",
      "    streaming\n",
      "    utils\n",
      "\n",
      "FUNCTIONS\n",
      "    debug(enable=True, level=1)\n",
      "\n",
      "DATA\n",
      "    __license__ = 'MIT'\n",
      "    api = <tweepy.api.API object>\n",
      "\n",
      "VERSION\n",
      "    3.10.0\n",
      "\n",
      "AUTHOR\n",
      "    Joshua Roesslein\n",
      "\n",
      "FILE\n",
      "    /opt/conda/lib/python3.9/site-packages/tweepy/__init__.py\n",
      "\n",
      "\n"
     ]
    }
   ],
   "source": [
    "print(tw.__version__)\n",
    "help(tw)"
   ]
  },
  {
   "cell_type": "code",
   "execution_count": 42,
   "id": "d319af58",
   "metadata": {},
   "outputs": [
    {
     "name": "stdout",
     "output_type": "stream",
     "text": [
      "Requirement already satisfied: tweepy in /opt/conda/lib/python3.9/site-packages (4.14.0)\n",
      "Requirement already satisfied: requests-oauthlib<2,>=1.2.0 in /opt/conda/lib/python3.9/site-packages (from tweepy) (1.3.1)\n",
      "Requirement already satisfied: requests<3,>=2.27.0 in /opt/conda/lib/python3.9/site-packages (from tweepy) (2.31.0)\n",
      "Requirement already satisfied: oauthlib<4,>=3.2.0 in /opt/conda/lib/python3.9/site-packages (from tweepy) (3.2.2)\n",
      "Requirement already satisfied: certifi>=2017.4.17 in /opt/conda/lib/python3.9/site-packages (from requests<3,>=2.27.0->tweepy) (2021.10.8)\n",
      "Requirement already satisfied: urllib3<3,>=1.21.1 in /opt/conda/lib/python3.9/site-packages (from requests<3,>=2.27.0->tweepy) (1.26.7)\n",
      "Requirement already satisfied: idna<4,>=2.5 in /opt/conda/lib/python3.9/site-packages (from requests<3,>=2.27.0->tweepy) (3.1)\n",
      "Requirement already satisfied: charset-normalizer<4,>=2 in /opt/conda/lib/python3.9/site-packages (from requests<3,>=2.27.0->tweepy) (2.0.0)\n",
      "3.10.0\n"
     ]
    }
   ],
   "source": [
    "!pip install --upgrade tweepy\n",
    "print(tw.__version__)"
   ]
  },
  {
   "cell_type": "code",
   "execution_count": null,
   "id": "08e234f5",
   "metadata": {},
   "outputs": [],
   "source": []
  }
 ],
 "metadata": {
  "kernelspec": {
   "display_name": "Python 3 (ipykernel)",
   "language": "python",
   "name": "python3"
  },
  "language_info": {
   "codemirror_mode": {
    "name": "ipython",
    "version": 3
   },
   "file_extension": ".py",
   "mimetype": "text/x-python",
   "name": "python",
   "nbconvert_exporter": "python",
   "pygments_lexer": "ipython3",
   "version": "3.9.15"
  }
 },
 "nbformat": 4,
 "nbformat_minor": 5
}
